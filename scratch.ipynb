{
 "cells": [
  {
   "cell_type": "code",
   "execution_count": 1,
   "metadata": {},
   "outputs": [],
   "source": [
    "import numpy as np\n",
    "import pandas as pd\n",
    "import matplotlib.pyplot as plt\n",
    "import xgboost as xgb\n",
    "from sklearn.preprocessing import LabelEncoder\n",
    "from xgboost.sklearn import XGBClassifier"
   ]
  },
  {
   "cell_type": "code",
   "execution_count": 2,
   "metadata": {},
   "outputs": [],
   "source": [
    "import seaborn as sns"
   ]
  },
  {
   "cell_type": "code",
   "execution_count": 3,
   "metadata": {},
   "outputs": [],
   "source": [
    "df = pd.read_csv('bank-additional-full.csv', sep = ';')"
   ]
  },
  {
   "cell_type": "code",
   "execution_count": 4,
   "metadata": {},
   "outputs": [
    {
     "data": {
      "text/html": [
       "<div>\n",
       "<style scoped>\n",
       "    .dataframe tbody tr th:only-of-type {\n",
       "        vertical-align: middle;\n",
       "    }\n",
       "\n",
       "    .dataframe tbody tr th {\n",
       "        vertical-align: top;\n",
       "    }\n",
       "\n",
       "    .dataframe thead th {\n",
       "        text-align: right;\n",
       "    }\n",
       "</style>\n",
       "<table border=\"1\" class=\"dataframe\">\n",
       "  <thead>\n",
       "    <tr style=\"text-align: right;\">\n",
       "      <th></th>\n",
       "      <th>age</th>\n",
       "      <th>job</th>\n",
       "      <th>marital</th>\n",
       "      <th>education</th>\n",
       "      <th>default</th>\n",
       "      <th>housing</th>\n",
       "      <th>loan</th>\n",
       "      <th>contact</th>\n",
       "      <th>month</th>\n",
       "      <th>day_of_week</th>\n",
       "      <th>...</th>\n",
       "      <th>campaign</th>\n",
       "      <th>pdays</th>\n",
       "      <th>previous</th>\n",
       "      <th>poutcome</th>\n",
       "      <th>emp.var.rate</th>\n",
       "      <th>cons.price.idx</th>\n",
       "      <th>cons.conf.idx</th>\n",
       "      <th>euribor3m</th>\n",
       "      <th>nr.employed</th>\n",
       "      <th>y</th>\n",
       "    </tr>\n",
       "  </thead>\n",
       "  <tbody>\n",
       "    <tr>\n",
       "      <th>0</th>\n",
       "      <td>56</td>\n",
       "      <td>housemaid</td>\n",
       "      <td>married</td>\n",
       "      <td>basic.4y</td>\n",
       "      <td>no</td>\n",
       "      <td>no</td>\n",
       "      <td>no</td>\n",
       "      <td>telephone</td>\n",
       "      <td>may</td>\n",
       "      <td>mon</td>\n",
       "      <td>...</td>\n",
       "      <td>1</td>\n",
       "      <td>999</td>\n",
       "      <td>0</td>\n",
       "      <td>nonexistent</td>\n",
       "      <td>1.1</td>\n",
       "      <td>93.994</td>\n",
       "      <td>-36.4</td>\n",
       "      <td>4.857</td>\n",
       "      <td>5191.0</td>\n",
       "      <td>no</td>\n",
       "    </tr>\n",
       "    <tr>\n",
       "      <th>1</th>\n",
       "      <td>57</td>\n",
       "      <td>services</td>\n",
       "      <td>married</td>\n",
       "      <td>high.school</td>\n",
       "      <td>unknown</td>\n",
       "      <td>no</td>\n",
       "      <td>no</td>\n",
       "      <td>telephone</td>\n",
       "      <td>may</td>\n",
       "      <td>mon</td>\n",
       "      <td>...</td>\n",
       "      <td>1</td>\n",
       "      <td>999</td>\n",
       "      <td>0</td>\n",
       "      <td>nonexistent</td>\n",
       "      <td>1.1</td>\n",
       "      <td>93.994</td>\n",
       "      <td>-36.4</td>\n",
       "      <td>4.857</td>\n",
       "      <td>5191.0</td>\n",
       "      <td>no</td>\n",
       "    </tr>\n",
       "    <tr>\n",
       "      <th>2</th>\n",
       "      <td>37</td>\n",
       "      <td>services</td>\n",
       "      <td>married</td>\n",
       "      <td>high.school</td>\n",
       "      <td>no</td>\n",
       "      <td>yes</td>\n",
       "      <td>no</td>\n",
       "      <td>telephone</td>\n",
       "      <td>may</td>\n",
       "      <td>mon</td>\n",
       "      <td>...</td>\n",
       "      <td>1</td>\n",
       "      <td>999</td>\n",
       "      <td>0</td>\n",
       "      <td>nonexistent</td>\n",
       "      <td>1.1</td>\n",
       "      <td>93.994</td>\n",
       "      <td>-36.4</td>\n",
       "      <td>4.857</td>\n",
       "      <td>5191.0</td>\n",
       "      <td>no</td>\n",
       "    </tr>\n",
       "    <tr>\n",
       "      <th>3</th>\n",
       "      <td>40</td>\n",
       "      <td>admin.</td>\n",
       "      <td>married</td>\n",
       "      <td>basic.6y</td>\n",
       "      <td>no</td>\n",
       "      <td>no</td>\n",
       "      <td>no</td>\n",
       "      <td>telephone</td>\n",
       "      <td>may</td>\n",
       "      <td>mon</td>\n",
       "      <td>...</td>\n",
       "      <td>1</td>\n",
       "      <td>999</td>\n",
       "      <td>0</td>\n",
       "      <td>nonexistent</td>\n",
       "      <td>1.1</td>\n",
       "      <td>93.994</td>\n",
       "      <td>-36.4</td>\n",
       "      <td>4.857</td>\n",
       "      <td>5191.0</td>\n",
       "      <td>no</td>\n",
       "    </tr>\n",
       "    <tr>\n",
       "      <th>4</th>\n",
       "      <td>56</td>\n",
       "      <td>services</td>\n",
       "      <td>married</td>\n",
       "      <td>high.school</td>\n",
       "      <td>no</td>\n",
       "      <td>no</td>\n",
       "      <td>yes</td>\n",
       "      <td>telephone</td>\n",
       "      <td>may</td>\n",
       "      <td>mon</td>\n",
       "      <td>...</td>\n",
       "      <td>1</td>\n",
       "      <td>999</td>\n",
       "      <td>0</td>\n",
       "      <td>nonexistent</td>\n",
       "      <td>1.1</td>\n",
       "      <td>93.994</td>\n",
       "      <td>-36.4</td>\n",
       "      <td>4.857</td>\n",
       "      <td>5191.0</td>\n",
       "      <td>no</td>\n",
       "    </tr>\n",
       "  </tbody>\n",
       "</table>\n",
       "<p>5 rows × 21 columns</p>\n",
       "</div>"
      ],
      "text/plain": [
       "   age        job  marital    education  default housing loan    contact  \\\n",
       "0   56  housemaid  married     basic.4y       no      no   no  telephone   \n",
       "1   57   services  married  high.school  unknown      no   no  telephone   \n",
       "2   37   services  married  high.school       no     yes   no  telephone   \n",
       "3   40     admin.  married     basic.6y       no      no   no  telephone   \n",
       "4   56   services  married  high.school       no      no  yes  telephone   \n",
       "\n",
       "  month day_of_week ...  campaign  pdays  previous     poutcome emp.var.rate  \\\n",
       "0   may         mon ...         1    999         0  nonexistent          1.1   \n",
       "1   may         mon ...         1    999         0  nonexistent          1.1   \n",
       "2   may         mon ...         1    999         0  nonexistent          1.1   \n",
       "3   may         mon ...         1    999         0  nonexistent          1.1   \n",
       "4   may         mon ...         1    999         0  nonexistent          1.1   \n",
       "\n",
       "   cons.price.idx  cons.conf.idx  euribor3m  nr.employed   y  \n",
       "0          93.994          -36.4      4.857       5191.0  no  \n",
       "1          93.994          -36.4      4.857       5191.0  no  \n",
       "2          93.994          -36.4      4.857       5191.0  no  \n",
       "3          93.994          -36.4      4.857       5191.0  no  \n",
       "4          93.994          -36.4      4.857       5191.0  no  \n",
       "\n",
       "[5 rows x 21 columns]"
      ]
     },
     "execution_count": 4,
     "metadata": {},
     "output_type": "execute_result"
    }
   ],
   "source": [
    "df.head()"
   ]
  },
  {
   "cell_type": "code",
   "execution_count": 5,
   "metadata": {},
   "outputs": [
    {
     "data": {
      "text/plain": [
       "(41188, 21)"
      ]
     },
     "execution_count": 5,
     "metadata": {},
     "output_type": "execute_result"
    }
   ],
   "source": [
    "df.shape"
   ]
  },
  {
   "cell_type": "code",
   "execution_count": 6,
   "metadata": {},
   "outputs": [
    {
     "name": "stdout",
     "output_type": "stream",
     "text": [
      "<class 'pandas.core.frame.DataFrame'>\n",
      "RangeIndex: 41188 entries, 0 to 41187\n",
      "Data columns (total 21 columns):\n",
      "age               41188 non-null int64\n",
      "job               41188 non-null object\n",
      "marital           41188 non-null object\n",
      "education         41188 non-null object\n",
      "default           41188 non-null object\n",
      "housing           41188 non-null object\n",
      "loan              41188 non-null object\n",
      "contact           41188 non-null object\n",
      "month             41188 non-null object\n",
      "day_of_week       41188 non-null object\n",
      "duration          41188 non-null int64\n",
      "campaign          41188 non-null int64\n",
      "pdays             41188 non-null int64\n",
      "previous          41188 non-null int64\n",
      "poutcome          41188 non-null object\n",
      "emp.var.rate      41188 non-null float64\n",
      "cons.price.idx    41188 non-null float64\n",
      "cons.conf.idx     41188 non-null float64\n",
      "euribor3m         41188 non-null float64\n",
      "nr.employed       41188 non-null float64\n",
      "y                 41188 non-null object\n",
      "dtypes: float64(5), int64(5), object(11)\n",
      "memory usage: 6.6+ MB\n"
     ]
    }
   ],
   "source": [
    "df.info()"
   ]
  },
  {
   "cell_type": "code",
   "execution_count": 7,
   "metadata": {},
   "outputs": [
    {
     "data": {
      "text/html": [
       "<div>\n",
       "<style scoped>\n",
       "    .dataframe tbody tr th:only-of-type {\n",
       "        vertical-align: middle;\n",
       "    }\n",
       "\n",
       "    .dataframe tbody tr th {\n",
       "        vertical-align: top;\n",
       "    }\n",
       "\n",
       "    .dataframe thead th {\n",
       "        text-align: right;\n",
       "    }\n",
       "</style>\n",
       "<table border=\"1\" class=\"dataframe\">\n",
       "  <thead>\n",
       "    <tr style=\"text-align: right;\">\n",
       "      <th></th>\n",
       "      <th>age</th>\n",
       "      <th>duration</th>\n",
       "      <th>campaign</th>\n",
       "      <th>pdays</th>\n",
       "      <th>previous</th>\n",
       "      <th>emp.var.rate</th>\n",
       "      <th>cons.price.idx</th>\n",
       "      <th>cons.conf.idx</th>\n",
       "      <th>euribor3m</th>\n",
       "      <th>nr.employed</th>\n",
       "    </tr>\n",
       "  </thead>\n",
       "  <tbody>\n",
       "    <tr>\n",
       "      <th>count</th>\n",
       "      <td>41188.00000</td>\n",
       "      <td>41188.000000</td>\n",
       "      <td>41188.000000</td>\n",
       "      <td>41188.000000</td>\n",
       "      <td>41188.000000</td>\n",
       "      <td>41188.000000</td>\n",
       "      <td>41188.000000</td>\n",
       "      <td>41188.000000</td>\n",
       "      <td>41188.000000</td>\n",
       "      <td>41188.000000</td>\n",
       "    </tr>\n",
       "    <tr>\n",
       "      <th>mean</th>\n",
       "      <td>40.02406</td>\n",
       "      <td>258.285010</td>\n",
       "      <td>2.567593</td>\n",
       "      <td>962.475454</td>\n",
       "      <td>0.172963</td>\n",
       "      <td>0.081886</td>\n",
       "      <td>93.575664</td>\n",
       "      <td>-40.502600</td>\n",
       "      <td>3.621291</td>\n",
       "      <td>5167.035911</td>\n",
       "    </tr>\n",
       "    <tr>\n",
       "      <th>std</th>\n",
       "      <td>10.42125</td>\n",
       "      <td>259.279249</td>\n",
       "      <td>2.770014</td>\n",
       "      <td>186.910907</td>\n",
       "      <td>0.494901</td>\n",
       "      <td>1.570960</td>\n",
       "      <td>0.578840</td>\n",
       "      <td>4.628198</td>\n",
       "      <td>1.734447</td>\n",
       "      <td>72.251528</td>\n",
       "    </tr>\n",
       "    <tr>\n",
       "      <th>min</th>\n",
       "      <td>17.00000</td>\n",
       "      <td>0.000000</td>\n",
       "      <td>1.000000</td>\n",
       "      <td>0.000000</td>\n",
       "      <td>0.000000</td>\n",
       "      <td>-3.400000</td>\n",
       "      <td>92.201000</td>\n",
       "      <td>-50.800000</td>\n",
       "      <td>0.634000</td>\n",
       "      <td>4963.600000</td>\n",
       "    </tr>\n",
       "    <tr>\n",
       "      <th>25%</th>\n",
       "      <td>32.00000</td>\n",
       "      <td>102.000000</td>\n",
       "      <td>1.000000</td>\n",
       "      <td>999.000000</td>\n",
       "      <td>0.000000</td>\n",
       "      <td>-1.800000</td>\n",
       "      <td>93.075000</td>\n",
       "      <td>-42.700000</td>\n",
       "      <td>1.344000</td>\n",
       "      <td>5099.100000</td>\n",
       "    </tr>\n",
       "    <tr>\n",
       "      <th>50%</th>\n",
       "      <td>38.00000</td>\n",
       "      <td>180.000000</td>\n",
       "      <td>2.000000</td>\n",
       "      <td>999.000000</td>\n",
       "      <td>0.000000</td>\n",
       "      <td>1.100000</td>\n",
       "      <td>93.749000</td>\n",
       "      <td>-41.800000</td>\n",
       "      <td>4.857000</td>\n",
       "      <td>5191.000000</td>\n",
       "    </tr>\n",
       "    <tr>\n",
       "      <th>75%</th>\n",
       "      <td>47.00000</td>\n",
       "      <td>319.000000</td>\n",
       "      <td>3.000000</td>\n",
       "      <td>999.000000</td>\n",
       "      <td>0.000000</td>\n",
       "      <td>1.400000</td>\n",
       "      <td>93.994000</td>\n",
       "      <td>-36.400000</td>\n",
       "      <td>4.961000</td>\n",
       "      <td>5228.100000</td>\n",
       "    </tr>\n",
       "    <tr>\n",
       "      <th>max</th>\n",
       "      <td>98.00000</td>\n",
       "      <td>4918.000000</td>\n",
       "      <td>56.000000</td>\n",
       "      <td>999.000000</td>\n",
       "      <td>7.000000</td>\n",
       "      <td>1.400000</td>\n",
       "      <td>94.767000</td>\n",
       "      <td>-26.900000</td>\n",
       "      <td>5.045000</td>\n",
       "      <td>5228.100000</td>\n",
       "    </tr>\n",
       "  </tbody>\n",
       "</table>\n",
       "</div>"
      ],
      "text/plain": [
       "               age      duration      campaign         pdays      previous  \\\n",
       "count  41188.00000  41188.000000  41188.000000  41188.000000  41188.000000   \n",
       "mean      40.02406    258.285010      2.567593    962.475454      0.172963   \n",
       "std       10.42125    259.279249      2.770014    186.910907      0.494901   \n",
       "min       17.00000      0.000000      1.000000      0.000000      0.000000   \n",
       "25%       32.00000    102.000000      1.000000    999.000000      0.000000   \n",
       "50%       38.00000    180.000000      2.000000    999.000000      0.000000   \n",
       "75%       47.00000    319.000000      3.000000    999.000000      0.000000   \n",
       "max       98.00000   4918.000000     56.000000    999.000000      7.000000   \n",
       "\n",
       "       emp.var.rate  cons.price.idx  cons.conf.idx     euribor3m   nr.employed  \n",
       "count  41188.000000    41188.000000   41188.000000  41188.000000  41188.000000  \n",
       "mean       0.081886       93.575664     -40.502600      3.621291   5167.035911  \n",
       "std        1.570960        0.578840       4.628198      1.734447     72.251528  \n",
       "min       -3.400000       92.201000     -50.800000      0.634000   4963.600000  \n",
       "25%       -1.800000       93.075000     -42.700000      1.344000   5099.100000  \n",
       "50%        1.100000       93.749000     -41.800000      4.857000   5191.000000  \n",
       "75%        1.400000       93.994000     -36.400000      4.961000   5228.100000  \n",
       "max        1.400000       94.767000     -26.900000      5.045000   5228.100000  "
      ]
     },
     "execution_count": 7,
     "metadata": {},
     "output_type": "execute_result"
    }
   ],
   "source": [
    "df.describe()"
   ]
  },
  {
   "cell_type": "markdown",
   "metadata": {},
   "source": [
    " ### Input variables:\n",
    "   #### bank client data:\n",
    "   1 - age (numeric)  \n",
    "   2 - job : type of job (categorical: \"admin.\",\"blue-collar\",\"entrepreneur\",\"housemaid\",\"management\",\"retired\",\"self-employed\",\"services\",\"student\",\"technician\",\"unemployed\",\"unknown\")  \n",
    "   3 - marital : marital status (categorical: \"divorced\",\"married\",\"single\",\"unknown\"; note: \"divorced\" means divorced or widowed)  \n",
    "   4 - education (categorical: \"basic.4y\",\"basic.6y\",\"basic.9y\",\"high.school\",\"illiterate\",\"professional.course\",\"university.degree\",\"unknown\")  \n",
    "   5 - default: has credit in default? (categorical: \"no\",\"yes\",\"unknown\")  \n",
    "   6 - housing: has housing loan? (categorical: \"no\",\"yes\",\"unknown\")  \n",
    "   7 - loan: has personal loan? (categorical: \"no\",\"yes\",\"unknown\")  \n",
    "   #### related with the last contact of the current campaign:\n",
    "   8 - contact: contact communication type (categorical: \"cellular\",\"telephone\")   \n",
    "   9 - month: last contact month of year (categorical: \"jan\", \"feb\", \"mar\", ..., \"nov\", \"dec\")  \n",
    "  10 - day_of_week: last contact day of the week (categorical: \"mon\",\"tue\",\"wed\",\"thu\",\"fri\")  \n",
    "  11 - duration: last contact duration, in seconds (numeric). Important note:  this attribute highly affects the output target (e.g., if duration=0 then y=\"no\"). Yet, the duration is not known before a call is performed. Also, after the end of the call y is obviously known. Thus, this input should only be included for benchmark purposes and should be discarded if the intention is to have a realistic predictive model.\n",
    "   #### other attributes:\n",
    "  12 - campaign: number of contacts performed during this campaign and for this client (numeric, includes last contact)  \n",
    "  13 - pdays: number of days that passed by after the client was last contacted from a previous campaign (numeric; 999 means client was not previously contacted)  \n",
    "  14 - previous: number of contacts performed before this campaign and for this client (numeric)  \n",
    "  15 - poutcome: outcome of the previous marketing campaign (categorical: \"failure\",\"nonexistent\",\"success\")  \n",
    "   #### social and economic context attributes\n",
    "  16 - emp.var.rate: employment variation rate - quarterly indicator (numeric)  \n",
    "  17 - cons.price.idx: consumer price index - monthly indicator (numeric)     \n",
    "  18 - cons.conf.idx: consumer confidence index - monthly indicator (numeric)       \n",
    "  19 - euribor3m: euribor 3 month rate - daily indicator (numeric)  \n",
    "  20 - nr.employed: number of employees - quarterly indicator (numeric)  \n",
    "\n",
    "  ### Output variable (desired target):\n",
    "  21 - y - has the client subscribed a term deposit? (binary: \"yes\",\"no\")"
   ]
  },
  {
   "cell_type": "code",
   "execution_count": 5,
   "metadata": {},
   "outputs": [
    {
     "data": {
      "text/html": [
       "<div>\n",
       "<style scoped>\n",
       "    .dataframe tbody tr th:only-of-type {\n",
       "        vertical-align: middle;\n",
       "    }\n",
       "\n",
       "    .dataframe tbody tr th {\n",
       "        vertical-align: top;\n",
       "    }\n",
       "\n",
       "    .dataframe thead th {\n",
       "        text-align: right;\n",
       "    }\n",
       "</style>\n",
       "<table border=\"1\" class=\"dataframe\">\n",
       "  <thead>\n",
       "    <tr style=\"text-align: right;\">\n",
       "      <th></th>\n",
       "      <th>age</th>\n",
       "      <th>job</th>\n",
       "      <th>marital</th>\n",
       "      <th>education</th>\n",
       "      <th>default</th>\n",
       "      <th>housing</th>\n",
       "      <th>loan</th>\n",
       "      <th>contact</th>\n",
       "      <th>month</th>\n",
       "      <th>day_of_week</th>\n",
       "      <th>duration</th>\n",
       "      <th>campaign</th>\n",
       "      <th>pdays</th>\n",
       "      <th>previous</th>\n",
       "      <th>poutcome</th>\n",
       "      <th>emp.var.rate</th>\n",
       "      <th>cons.price.idx</th>\n",
       "      <th>cons.conf.idx</th>\n",
       "      <th>euribor3m</th>\n",
       "      <th>nr.employed</th>\n",
       "    </tr>\n",
       "  </thead>\n",
       "  <tbody>\n",
       "    <tr>\n",
       "      <th>0</th>\n",
       "      <td>56</td>\n",
       "      <td>housemaid</td>\n",
       "      <td>married</td>\n",
       "      <td>basic.4y</td>\n",
       "      <td>no</td>\n",
       "      <td>no</td>\n",
       "      <td>no</td>\n",
       "      <td>telephone</td>\n",
       "      <td>may</td>\n",
       "      <td>mon</td>\n",
       "      <td>261</td>\n",
       "      <td>1</td>\n",
       "      <td>999</td>\n",
       "      <td>0</td>\n",
       "      <td>nonexistent</td>\n",
       "      <td>1.1</td>\n",
       "      <td>93.994</td>\n",
       "      <td>-36.4</td>\n",
       "      <td>4.857</td>\n",
       "      <td>5191.0</td>\n",
       "    </tr>\n",
       "    <tr>\n",
       "      <th>1</th>\n",
       "      <td>57</td>\n",
       "      <td>services</td>\n",
       "      <td>married</td>\n",
       "      <td>high.school</td>\n",
       "      <td>unknown</td>\n",
       "      <td>no</td>\n",
       "      <td>no</td>\n",
       "      <td>telephone</td>\n",
       "      <td>may</td>\n",
       "      <td>mon</td>\n",
       "      <td>149</td>\n",
       "      <td>1</td>\n",
       "      <td>999</td>\n",
       "      <td>0</td>\n",
       "      <td>nonexistent</td>\n",
       "      <td>1.1</td>\n",
       "      <td>93.994</td>\n",
       "      <td>-36.4</td>\n",
       "      <td>4.857</td>\n",
       "      <td>5191.0</td>\n",
       "    </tr>\n",
       "    <tr>\n",
       "      <th>2</th>\n",
       "      <td>37</td>\n",
       "      <td>services</td>\n",
       "      <td>married</td>\n",
       "      <td>high.school</td>\n",
       "      <td>no</td>\n",
       "      <td>yes</td>\n",
       "      <td>no</td>\n",
       "      <td>telephone</td>\n",
       "      <td>may</td>\n",
       "      <td>mon</td>\n",
       "      <td>226</td>\n",
       "      <td>1</td>\n",
       "      <td>999</td>\n",
       "      <td>0</td>\n",
       "      <td>nonexistent</td>\n",
       "      <td>1.1</td>\n",
       "      <td>93.994</td>\n",
       "      <td>-36.4</td>\n",
       "      <td>4.857</td>\n",
       "      <td>5191.0</td>\n",
       "    </tr>\n",
       "    <tr>\n",
       "      <th>3</th>\n",
       "      <td>40</td>\n",
       "      <td>admin.</td>\n",
       "      <td>married</td>\n",
       "      <td>basic.6y</td>\n",
       "      <td>no</td>\n",
       "      <td>no</td>\n",
       "      <td>no</td>\n",
       "      <td>telephone</td>\n",
       "      <td>may</td>\n",
       "      <td>mon</td>\n",
       "      <td>151</td>\n",
       "      <td>1</td>\n",
       "      <td>999</td>\n",
       "      <td>0</td>\n",
       "      <td>nonexistent</td>\n",
       "      <td>1.1</td>\n",
       "      <td>93.994</td>\n",
       "      <td>-36.4</td>\n",
       "      <td>4.857</td>\n",
       "      <td>5191.0</td>\n",
       "    </tr>\n",
       "    <tr>\n",
       "      <th>4</th>\n",
       "      <td>56</td>\n",
       "      <td>services</td>\n",
       "      <td>married</td>\n",
       "      <td>high.school</td>\n",
       "      <td>no</td>\n",
       "      <td>no</td>\n",
       "      <td>yes</td>\n",
       "      <td>telephone</td>\n",
       "      <td>may</td>\n",
       "      <td>mon</td>\n",
       "      <td>307</td>\n",
       "      <td>1</td>\n",
       "      <td>999</td>\n",
       "      <td>0</td>\n",
       "      <td>nonexistent</td>\n",
       "      <td>1.1</td>\n",
       "      <td>93.994</td>\n",
       "      <td>-36.4</td>\n",
       "      <td>4.857</td>\n",
       "      <td>5191.0</td>\n",
       "    </tr>\n",
       "  </tbody>\n",
       "</table>\n",
       "</div>"
      ],
      "text/plain": [
       "   age        job  marital    education  default housing loan    contact  \\\n",
       "0   56  housemaid  married     basic.4y       no      no   no  telephone   \n",
       "1   57   services  married  high.school  unknown      no   no  telephone   \n",
       "2   37   services  married  high.school       no     yes   no  telephone   \n",
       "3   40     admin.  married     basic.6y       no      no   no  telephone   \n",
       "4   56   services  married  high.school       no      no  yes  telephone   \n",
       "\n",
       "  month day_of_week  duration  campaign  pdays  previous     poutcome  \\\n",
       "0   may         mon       261         1    999         0  nonexistent   \n",
       "1   may         mon       149         1    999         0  nonexistent   \n",
       "2   may         mon       226         1    999         0  nonexistent   \n",
       "3   may         mon       151         1    999         0  nonexistent   \n",
       "4   may         mon       307         1    999         0  nonexistent   \n",
       "\n",
       "   emp.var.rate  cons.price.idx  cons.conf.idx  euribor3m  nr.employed  \n",
       "0           1.1          93.994          -36.4      4.857       5191.0  \n",
       "1           1.1          93.994          -36.4      4.857       5191.0  \n",
       "2           1.1          93.994          -36.4      4.857       5191.0  \n",
       "3           1.1          93.994          -36.4      4.857       5191.0  \n",
       "4           1.1          93.994          -36.4      4.857       5191.0  "
      ]
     },
     "execution_count": 5,
     "metadata": {},
     "output_type": "execute_result"
    }
   ],
   "source": [
    "df_train = df.loc[:, df.columns != 'y']\n",
    "df_train.head()"
   ]
  },
  {
   "cell_type": "code",
   "execution_count": 6,
   "metadata": {},
   "outputs": [
    {
     "data": {
      "text/plain": [
       "0    no\n",
       "1    no\n",
       "2    no\n",
       "3    no\n",
       "4    no\n",
       "Name: y, dtype: object"
      ]
     },
     "execution_count": 6,
     "metadata": {},
     "output_type": "execute_result"
    }
   ],
   "source": [
    "df_label = df['y']\n",
    "df_label.head()"
   ]
  },
  {
   "cell_type": "code",
   "execution_count": 7,
   "metadata": {},
   "outputs": [
    {
     "data": {
      "text/plain": [
       "array(['no', 'yes'], dtype=object)"
      ]
     },
     "execution_count": 7,
     "metadata": {},
     "output_type": "execute_result"
    }
   ],
   "source": [
    "df_label.unique()"
   ]
  },
  {
   "cell_type": "code",
   "execution_count": 8,
   "metadata": {},
   "outputs": [],
   "source": [
    "df_y = df_label.replace({'yes': 1, 'no': 0})"
   ]
  },
  {
   "cell_type": "code",
   "execution_count": 9,
   "metadata": {},
   "outputs": [
    {
     "data": {
      "text/plain": [
       "0    36548\n",
       "1     4640\n",
       "Name: y, dtype: int64"
      ]
     },
     "execution_count": 9,
     "metadata": {},
     "output_type": "execute_result"
    }
   ],
   "source": [
    "df_y.value_counts()"
   ]
  },
  {
   "cell_type": "code",
   "execution_count": 10,
   "metadata": {},
   "outputs": [
    {
     "data": {
      "text/plain": [
       "no     36548\n",
       "yes     4640\n",
       "Name: y, dtype: int64"
      ]
     },
     "execution_count": 10,
     "metadata": {},
     "output_type": "execute_result"
    }
   ],
   "source": [
    "df_label.value_counts()"
   ]
  },
  {
   "cell_type": "code",
   "execution_count": 14,
   "metadata": {
    "scrolled": false
   },
   "outputs": [
    {
     "data": {
      "image/png": "[encoded data removed]",
      "text/plain": [
       "<Figure size 720x432 with 1 Axes>"
      ]
     },
     "metadata": {},
     "output_type": "display_data"
    }
   ],
   "source": [
    "fig, ax = plt.subplots(figsize = (10,6))\n",
    "ax.spines[\"top\"].set_visible(False)  \n",
    "ax.spines[\"right\"].set_visible(False)\n",
    "ax.get_xaxis().tick_bottom()  \n",
    "ax.get_yaxis().tick_left()\n",
    "plt.title('Distribution of Age', fontdict = {'fontsize': 20,\n",
    "                                             'fontweight': 500})\n",
    "plt.xticks(fontsize=14)  \n",
    "plt.yticks(fontsize=14)\n",
    "plt.xlabel(\"Age\", fontsize=16)  \n",
    "plt.ylabel(\"Count\", fontsize=16)\n",
    "plt.hist(df['age'], edgecolor='black', bins = range(10,95,5));"
   ]
  },
  {
   "cell_type": "code",
   "execution_count": 16,
   "metadata": {},
   "outputs": [],
   "source": [
    "df_train = df_train.replace('unknown', np.nan)"
   ]
  },
  {
   "cell_type": "code",
   "execution_count": 17,
   "metadata": {},
   "outputs": [
    {
     "data": {
      "text/plain": [
       "admin.           10422\n",
       "blue-collar       9254\n",
       "technician        6743\n",
       "services          3969\n",
       "management        2924\n",
       "retired           1720\n",
       "entrepreneur      1456\n",
       "self-employed     1421\n",
       "housemaid         1060\n",
       "unemployed        1014\n",
       "student            875\n",
       "Name: job, dtype: int64"
      ]
     },
     "execution_count": 17,
     "metadata": {},
     "output_type": "execute_result"
    }
   ],
   "source": [
    "job_bar = df_train['job'].value_counts()\n",
    "job_bar"
   ]
  },
  {
   "cell_type": "code",
   "execution_count": 18,
   "metadata": {},
   "outputs": [
    {
     "data": {
      "image/png": "[encoded data removed]",
      "text/plain": [
       "<Figure size 720x432 with 1 Axes>"
      ]
     },
     "metadata": {},
     "output_type": "display_data"
    }
   ],
   "source": [
    "fig, ax = plt.subplots(figsize = (10,6))\n",
    "ax.spines[\"top\"].set_visible(False)  \n",
    "ax.spines[\"right\"].set_visible(False)\n",
    "ax.get_xaxis().tick_bottom()  \n",
    "ax.get_yaxis().tick_left()\n",
    "plt.title('Distribution of Job', fontdict = {'fontsize': 20,\n",
    "                                             'fontweight': 500})\n",
    "plt.xticks(fontsize=14, rotation=45)  \n",
    "plt.yticks(fontsize=14)\n",
    "plt.xlabel(\"Jobs\", fontsize=16)  \n",
    "plt.ylabel(\"Count\", fontsize=16)\n",
    "plt.bar(job_bar.index, job_bar.values, edgecolor='black');"
   ]
  },
  {
   "cell_type": "code",
   "execution_count": 19,
   "metadata": {},
   "outputs": [
    {
     "name": "stdout",
     "output_type": "stream",
     "text": [
      "married     24928\n",
      "single      11568\n",
      "divorced     4612\n",
      "Name: marital, dtype: int64\n"
     ]
    }
   ],
   "source": [
    "marital_bar = df_train['marital'].value_counts()\n",
    "print(marital_bar)"
   ]
  },
  {
   "cell_type": "code",
   "execution_count": 20,
   "metadata": {},
   "outputs": [],
   "source": [
    "def barplot(name, in_df = df_train, returncontrol = False, col = None):\n",
    "    plot_col = in_df[name].value_counts()\n",
    "    if col is not None:\n",
    "        plot_col = plot_col.reindex(col)\n",
    "        plot_col = plot_col.fillna(0)\n",
    "    print(plot_col)\n",
    "    out_name = name.replace('_', ' ').capitalize()\n",
    "    fig, ax = plt.subplots(figsize = (10,6))\n",
    "    ax.spines[\"top\"].set_visible(False)  \n",
    "    ax.spines[\"right\"].set_visible(False)\n",
    "    ax.get_xaxis().tick_bottom()  \n",
    "    ax.get_yaxis().tick_left()\n",
    "    plt.title('Distribution of ' + out_name, \n",
    "               fontdict = {'fontsize': 20,\n",
    "                           'fontweight': 500})\n",
    "    plt.xticks(fontsize=14, rotation=45)  \n",
    "    plt.yticks(fontsize=14)\n",
    "    plt.xlabel(out_name, fontsize=16)  \n",
    "    plt.ylabel(\"Count\", fontsize=16)\n",
    "    plt.bar(plot_col.index, plot_col.values, edgecolor='black');\n",
    "    if returncontrol: return fig"
   ]
  },
  {
   "cell_type": "code",
   "execution_count": 21,
   "metadata": {},
   "outputs": [
    {
     "name": "stdout",
     "output_type": "stream",
     "text": [
      "married     24928\n",
      "single      11568\n",
      "divorced     4612\n",
      "Name: marital, dtype: int64\n"
     ]
    },
    {
     "data": {
      "image/png": "[encoded data removed]",
      "text/plain": [
       "<Figure size 720x432 with 1 Axes>"
      ]
     },
     "metadata": {},
     "output_type": "display_data"
    }
   ],
   "source": [
    "barplot('marital')"
   ]
  },
  {
   "cell_type": "code",
   "execution_count": 22,
   "metadata": {},
   "outputs": [
    {
     "name": "stdout",
     "output_type": "stream",
     "text": [
      "university.degree      12168\n",
      "professional.course     5243\n",
      "high.school             9515\n",
      "basic.9y                6045\n",
      "basic.6y                2292\n",
      "basic.4y                4176\n",
      "illiterate                18\n",
      "Name: education, dtype: int64\n"
     ]
    },
    {
     "data": {
      "image/png": "[encoded data removed]",
      "text/plain": [
       "<Figure size 720x432 with 1 Axes>"
      ]
     },
     "metadata": {},
     "output_type": "display_data"
    }
   ],
   "source": [
    "col = [\"illiterate\",\"basic.4y\",\"basic.6y\",\"basic.9y\",\"high.school\",\"professional.course\",\"university.degree\"]\n",
    "col.reverse()\n",
    "barplot('education', col = col)"
   ]
  },
  {
   "cell_type": "code",
   "execution_count": 23,
   "metadata": {},
   "outputs": [
    {
     "name": "stdout",
     "output_type": "stream",
     "text": [
      "no     32588\n",
      "yes        3\n",
      "Name: default, dtype: int64\n"
     ]
    },
    {
     "data": {
      "image/png": "[encoded data removed]",
      "text/plain": [
       "<Figure size 720x432 with 1 Axes>"
      ]
     },
     "metadata": {},
     "output_type": "display_data"
    }
   ],
   "source": [
    "barplot('default')"
   ]
  },
  {
   "cell_type": "code",
   "execution_count": 24,
   "metadata": {},
   "outputs": [
    {
     "name": "stdout",
     "output_type": "stream",
     "text": [
      "yes    21576\n",
      "no     18622\n",
      "Name: housing, dtype: int64\n"
     ]
    },
    {
     "data": {
      "image/png": "[encoded data removed]",
      "text/plain": [
       "<Figure size 720x432 with 1 Axes>"
      ]
     },
     "metadata": {},
     "output_type": "display_data"
    }
   ],
   "source": [
    "barplot('housing')"
   ]
  },
  {
   "cell_type": "code",
   "execution_count": 25,
   "metadata": {},
   "outputs": [
    {
     "name": "stdout",
     "output_type": "stream",
     "text": [
      "no     33950\n",
      "yes     6248\n",
      "Name: loan, dtype: int64\n"
     ]
    },
    {
     "data": {
      "image/png": "[encoded data removed]",
      "text/plain": [
       "<Figure size 720x432 with 1 Axes>"
      ]
     },
     "metadata": {},
     "output_type": "display_data"
    }
   ],
   "source": [
    "barplot('loan')"
   ]
  },
  {
   "cell_type": "code",
   "execution_count": 26,
   "metadata": {},
   "outputs": [
    {
     "name": "stdout",
     "output_type": "stream",
     "text": [
      "cellular     26144\n",
      "telephone    15044\n",
      "Name: contact, dtype: int64\n"
     ]
    },
    {
     "data": {
      "image/png": "[encoded data removed]",
      "text/plain": [
       "<Figure size 720x432 with 1 Axes>"
      ]
     },
     "metadata": {},
     "output_type": "display_data"
    }
   ],
   "source": [
    "barplot('contact')"
   ]
  },
  {
   "cell_type": "code",
   "execution_count": 27,
   "metadata": {},
   "outputs": [
    {
     "data": {
      "text/plain": [
       "array(['may', 'jun', 'jul', 'aug', 'oct', 'nov', 'dec', 'mar', 'apr',\n",
       "       'sep'], dtype=object)"
      ]
     },
     "execution_count": 27,
     "metadata": {},
     "output_type": "execute_result"
    }
   ],
   "source": [
    "df_train['month'].unique()"
   ]
  },
  {
   "cell_type": "code",
   "execution_count": 28,
   "metadata": {},
   "outputs": [
    {
     "name": "stdout",
     "output_type": "stream",
     "text": [
      "jan        0.0\n",
      "feb        0.0\n",
      "mar      546.0\n",
      "apr     2632.0\n",
      "may    13769.0\n",
      "jun     5318.0\n",
      "jul     7174.0\n",
      "aug     6178.0\n",
      "sep      570.0\n",
      "oct      718.0\n",
      "nov     4101.0\n",
      "dec      182.0\n",
      "Name: month, dtype: float64\n"
     ]
    },
    {
     "data": {
      "image/png": "[encoded data removed]",
      "text/plain": [
       "<Figure size 720x432 with 1 Axes>"
      ]
     },
     "metadata": {},
     "output_type": "display_data"
    }
   ],
   "source": [
    "col = [\"jan\", \"feb\", \"mar\", 'apr', 'may', 'jun', 'jul', 'aug', 'sep', 'oct', \"nov\", \"dec\"]\n",
    "barplot('month', col = col)"
   ]
  },
  {
   "cell_type": "code",
   "execution_count": 29,
   "metadata": {},
   "outputs": [
    {
     "name": "stdout",
     "output_type": "stream",
     "text": [
      "mon    8514\n",
      "tue    8090\n",
      "wed    8134\n",
      "thu    8623\n",
      "fri    7827\n",
      "Name: day_of_week, dtype: int64\n"
     ]
    },
    {
     "data": {
      "image/png": "[encoded data removed]",
      "text/plain": [
       "<Figure size 720x432 with 1 Axes>"
      ]
     },
     "metadata": {},
     "output_type": "display_data"
    }
   ],
   "source": [
    "col = [\"mon\",\"tue\",\"wed\",\"thu\",\"fri\"]\n",
    "barplot('day_of_week', col = col)"
   ]
  },
  {
   "cell_type": "code",
   "execution_count": 30,
   "metadata": {},
   "outputs": [],
   "source": [
    "def histplot(name,in_df = df_train, returncontrol = False, bins = None):\n",
    "    fig, ax = plt.subplots(figsize = (10,6))\n",
    "    ax.spines[\"top\"].set_visible(False)  \n",
    "    ax.spines[\"right\"].set_visible(False)\n",
    "    ax.get_xaxis().tick_bottom()  \n",
    "    ax.get_yaxis().tick_left()\n",
    "    plt.title('Distribution of ' + name, \n",
    "              fontdict = {'fontsize': 20,\n",
    "                          'fontweight': 500})\n",
    "    plt.xticks(fontsize=14)  \n",
    "    plt.yticks(fontsize=14)\n",
    "    plt.xlabel(name, fontsize=16)  \n",
    "    plt.ylabel(\"Count\", fontsize=16)\n",
    "    plt.hist(in_df[name], edgecolor='black', bins = bins);\n",
    "    if returncontrol: return fig"
   ]
  },
  {
   "cell_type": "code",
   "execution_count": 31,
   "metadata": {},
   "outputs": [
    {
     "data": {
      "image/png": "[encoded data removed]",
      "text/plain": [
       "<Figure size 720x432 with 1 Axes>"
      ]
     },
     "metadata": {},
     "output_type": "display_data"
    }
   ],
   "source": [
    "histplot('duration', bins = 50)"
   ]
  },
  {
   "cell_type": "code",
   "execution_count": 32,
   "metadata": {},
   "outputs": [
    {
     "data": {
      "image/png": "[encoded data removed]",
      "text/plain": [
       "<Figure size 720x432 with 1 Axes>"
      ]
     },
     "metadata": {},
     "output_type": "display_data"
    }
   ],
   "source": [
    "histplot('campaign', bins = 30)"
   ]
  },
  {
   "cell_type": "code",
   "execution_count": 33,
   "metadata": {},
   "outputs": [
    {
     "data": {
      "text/html": [
       "<div>\n",
       "<style scoped>\n",
       "    .dataframe tbody tr th:only-of-type {\n",
       "        vertical-align: middle;\n",
       "    }\n",
       "\n",
       "    .dataframe tbody tr th {\n",
       "        vertical-align: top;\n",
       "    }\n",
       "\n",
       "    .dataframe thead th {\n",
       "        text-align: right;\n",
       "    }\n",
       "</style>\n",
       "<table border=\"1\" class=\"dataframe\">\n",
       "  <thead>\n",
       "    <tr style=\"text-align: right;\">\n",
       "      <th></th>\n",
       "      <th>age</th>\n",
       "      <th>duration</th>\n",
       "      <th>campaign</th>\n",
       "      <th>pdays</th>\n",
       "      <th>previous</th>\n",
       "      <th>emp.var.rate</th>\n",
       "      <th>cons.price.idx</th>\n",
       "      <th>cons.conf.idx</th>\n",
       "      <th>euribor3m</th>\n",
       "      <th>nr.employed</th>\n",
       "    </tr>\n",
       "  </thead>\n",
       "  <tbody>\n",
       "    <tr>\n",
       "      <th>count</th>\n",
       "      <td>41188.00000</td>\n",
       "      <td>41188.000000</td>\n",
       "      <td>41188.000000</td>\n",
       "      <td>41188.000000</td>\n",
       "      <td>41188.000000</td>\n",
       "      <td>41188.000000</td>\n",
       "      <td>41188.000000</td>\n",
       "      <td>41188.000000</td>\n",
       "      <td>41188.000000</td>\n",
       "      <td>41188.000000</td>\n",
       "    </tr>\n",
       "    <tr>\n",
       "      <th>mean</th>\n",
       "      <td>40.02406</td>\n",
       "      <td>258.285010</td>\n",
       "      <td>2.567593</td>\n",
       "      <td>962.475454</td>\n",
       "      <td>0.172963</td>\n",
       "      <td>0.081886</td>\n",
       "      <td>93.575664</td>\n",
       "      <td>-40.502600</td>\n",
       "      <td>3.621291</td>\n",
       "      <td>5167.035911</td>\n",
       "    </tr>\n",
       "    <tr>\n",
       "      <th>std</th>\n",
       "      <td>10.42125</td>\n",
       "      <td>259.279249</td>\n",
       "      <td>2.770014</td>\n",
       "      <td>186.910907</td>\n",
       "      <td>0.494901</td>\n",
       "      <td>1.570960</td>\n",
       "      <td>0.578840</td>\n",
       "      <td>4.628198</td>\n",
       "      <td>1.734447</td>\n",
       "      <td>72.251528</td>\n",
       "    </tr>\n",
       "    <tr>\n",
       "      <th>min</th>\n",
       "      <td>17.00000</td>\n",
       "      <td>0.000000</td>\n",
       "      <td>1.000000</td>\n",
       "      <td>0.000000</td>\n",
       "      <td>0.000000</td>\n",
       "      <td>-3.400000</td>\n",
       "      <td>92.201000</td>\n",
       "      <td>-50.800000</td>\n",
       "      <td>0.634000</td>\n",
       "      <td>4963.600000</td>\n",
       "    </tr>\n",
       "    <tr>\n",
       "      <th>25%</th>\n",
       "      <td>32.00000</td>\n",
       "      <td>102.000000</td>\n",
       "      <td>1.000000</td>\n",
       "      <td>999.000000</td>\n",
       "      <td>0.000000</td>\n",
       "      <td>-1.800000</td>\n",
       "      <td>93.075000</td>\n",
       "      <td>-42.700000</td>\n",
       "      <td>1.344000</td>\n",
       "      <td>5099.100000</td>\n",
       "    </tr>\n",
       "    <tr>\n",
       "      <th>50%</th>\n",
       "      <td>38.00000</td>\n",
       "      <td>180.000000</td>\n",
       "      <td>2.000000</td>\n",
       "      <td>999.000000</td>\n",
       "      <td>0.000000</td>\n",
       "      <td>1.100000</td>\n",
       "      <td>93.749000</td>\n",
       "      <td>-41.800000</td>\n",
       "      <td>4.857000</td>\n",
       "      <td>5191.000000</td>\n",
       "    </tr>\n",
       "    <tr>\n",
       "      <th>75%</th>\n",
       "      <td>47.00000</td>\n",
       "      <td>319.000000</td>\n",
       "      <td>3.000000</td>\n",
       "      <td>999.000000</td>\n",
       "      <td>0.000000</td>\n",
       "      <td>1.400000</td>\n",
       "      <td>93.994000</td>\n",
       "      <td>-36.400000</td>\n",
       "      <td>4.961000</td>\n",
       "      <td>5228.100000</td>\n",
       "    </tr>\n",
       "    <tr>\n",
       "      <th>max</th>\n",
       "      <td>98.00000</td>\n",
       "      <td>4918.000000</td>\n",
       "      <td>56.000000</td>\n",
       "      <td>999.000000</td>\n",
       "      <td>7.000000</td>\n",
       "      <td>1.400000</td>\n",
       "      <td>94.767000</td>\n",
       "      <td>-26.900000</td>\n",
       "      <td>5.045000</td>\n",
       "      <td>5228.100000</td>\n",
       "    </tr>\n",
       "  </tbody>\n",
       "</table>\n",
       "</div>"
      ],
      "text/plain": [
       "               age      duration      campaign         pdays      previous  \\\n",
       "count  41188.00000  41188.000000  41188.000000  41188.000000  41188.000000   \n",
       "mean      40.02406    258.285010      2.567593    962.475454      0.172963   \n",
       "std       10.42125    259.279249      2.770014    186.910907      0.494901   \n",
       "min       17.00000      0.000000      1.000000      0.000000      0.000000   \n",
       "25%       32.00000    102.000000      1.000000    999.000000      0.000000   \n",
       "50%       38.00000    180.000000      2.000000    999.000000      0.000000   \n",
       "75%       47.00000    319.000000      3.000000    999.000000      0.000000   \n",
       "max       98.00000   4918.000000     56.000000    999.000000      7.000000   \n",
       "\n",
       "       emp.var.rate  cons.price.idx  cons.conf.idx     euribor3m   nr.employed  \n",
       "count  41188.000000    41188.000000   41188.000000  41188.000000  41188.000000  \n",
       "mean       0.081886       93.575664     -40.502600      3.621291   5167.035911  \n",
       "std        1.570960        0.578840       4.628198      1.734447     72.251528  \n",
       "min       -3.400000       92.201000     -50.800000      0.634000   4963.600000  \n",
       "25%       -1.800000       93.075000     -42.700000      1.344000   5099.100000  \n",
       "50%        1.100000       93.749000     -41.800000      4.857000   5191.000000  \n",
       "75%        1.400000       93.994000     -36.400000      4.961000   5228.100000  \n",
       "max        1.400000       94.767000     -26.900000      5.045000   5228.100000  "
      ]
     },
     "execution_count": 33,
     "metadata": {},
     "output_type": "execute_result"
    }
   ],
   "source": [
    "df.describe()"
   ]
  },
  {
   "cell_type": "code",
   "execution_count": 34,
   "metadata": {},
   "outputs": [
    {
     "data": {
      "image/png": "[encoded data removed]",
      "text/plain": [
       "<Figure size 720x432 with 1 Axes>"
      ]
     },
     "metadata": {},
     "output_type": "display_data"
    }
   ],
   "source": [
    "histplot('pdays')"
   ]
  },
  {
   "cell_type": "code",
   "execution_count": 35,
   "metadata": {},
   "outputs": [
    {
     "name": "stdout",
     "output_type": "stream",
     "text": [
      "0    35563\n",
      "1     4561\n",
      "2      754\n",
      "3      216\n",
      "4       70\n",
      "5       18\n",
      "6        5\n",
      "7        1\n",
      "Name: previous, dtype: int64\n"
     ]
    },
    {
     "data": {
      "image/png": "[encoded data removed]",
      "text/plain": [
       "<Figure size 720x432 with 1 Axes>"
      ]
     },
     "metadata": {},
     "output_type": "display_data"
    }
   ],
   "source": [
    "barplot('previous')"
   ]
  },
  {
   "cell_type": "code",
   "execution_count": 36,
   "metadata": {},
   "outputs": [],
   "source": [
    "df_copy = df.copy()"
   ]
  },
  {
   "cell_type": "code",
   "execution_count": 37,
   "metadata": {},
   "outputs": [],
   "source": [
    "df_copy = df_copy.replace('unknown', np.nan)"
   ]
  },
  {
   "cell_type": "code",
   "execution_count": 38,
   "metadata": {},
   "outputs": [],
   "source": [
    "a = df_copy.groupby('job')['y'].count()"
   ]
  },
  {
   "cell_type": "code",
   "execution_count": 39,
   "metadata": {},
   "outputs": [],
   "source": [
    "b = df_copy[df_copy['y'] == 'yes'].groupby('job')['y'].count()"
   ]
  },
  {
   "cell_type": "code",
   "execution_count": 40,
   "metadata": {},
   "outputs": [],
   "source": [
    "c = b/a"
   ]
  },
  {
   "cell_type": "code",
   "execution_count": 41,
   "metadata": {},
   "outputs": [
    {
     "data": {
      "text/plain": [
       "job\n",
       "admin.           10422\n",
       "blue-collar       9254\n",
       "entrepreneur      1456\n",
       "housemaid         1060\n",
       "management        2924\n",
       "retired           1720\n",
       "self-employed     1421\n",
       "services          3969\n",
       "student            875\n",
       "technician        6743\n",
       "unemployed        1014\n",
       "Name: y, dtype: int64"
      ]
     },
     "execution_count": 41,
     "metadata": {},
     "output_type": "execute_result"
    }
   ],
   "source": [
    "a"
   ]
  },
  {
   "cell_type": "code",
   "execution_count": 42,
   "metadata": {},
   "outputs": [],
   "source": [
    "def ybarplot(name, in_df = df_copy, returncontrol = False, col = None):\n",
    "    tot = in_df.groupby(name)['y'].count()\n",
    "    suc = in_df[in_df['y'] == 'yes'].groupby(name)['y'].count()\n",
    "    plot_col = (suc/tot).sort_values(ascending = False)\n",
    "    if col is not None:\n",
    "        plot_col = plot_col.reindex(col)\n",
    "        plot_col = plot_col.fillna(0)\n",
    "    print(plot_col)\n",
    "    out_name = name.replace('_', ' ').capitalize()\n",
    "    fig, ax = plt.subplots(figsize = (10,6))\n",
    "    ax.spines[\"top\"].set_visible(False)  \n",
    "    ax.spines[\"right\"].set_visible(False)\n",
    "    ax.get_xaxis().tick_bottom()  \n",
    "    ax.get_yaxis().tick_left()\n",
    "    plt.title('Percentage of subscription on ' + out_name, \n",
    "               fontdict = {'fontsize': 20,\n",
    "                           'fontweight': 500})\n",
    "    plt.xticks(fontsize=14, rotation=45)  \n",
    "    plt.yticks(fontsize=14)\n",
    "    plt.xlabel(out_name, fontsize=16)  \n",
    "    plt.ylabel(\"Percentage\", fontsize=16)\n",
    "    plt.bar(plot_col.index, plot_col.values, edgecolor='black');\n",
    "    if returncontrol: return fig"
   ]
  },
  {
   "cell_type": "code",
   "execution_count": 43,
   "metadata": {},
   "outputs": [
    {
     "name": "stdout",
     "output_type": "stream",
     "text": [
      "job\n",
      "student          0.314286\n",
      "retired          0.252326\n",
      "unemployed       0.142012\n",
      "admin.           0.129726\n",
      "management       0.112175\n",
      "technician       0.108260\n",
      "self-employed    0.104856\n",
      "housemaid        0.100000\n",
      "entrepreneur     0.085165\n",
      "services         0.081381\n",
      "blue-collar      0.068943\n",
      "Name: y, dtype: float64\n"
     ]
    },
    {
     "data": {
      "image/png": "[encoded data removed]",
      "text/plain": [
       "<Figure size 720x432 with 1 Axes>"
      ]
     },
     "metadata": {},
     "output_type": "display_data"
    }
   ],
   "source": [
    "ybarplot('job')"
   ]
  },
  {
   "cell_type": "code",
   "execution_count": 44,
   "metadata": {},
   "outputs": [
    {
     "name": "stdout",
     "output_type": "stream",
     "text": [
      "marital\n",
      "single      0.140041\n",
      "divorced    0.103209\n",
      "married     0.101573\n",
      "Name: y, dtype: float64\n"
     ]
    },
    {
     "data": {
      "image/png": "[encoded data removed]",
      "text/plain": [
       "<Figure size 720x432 with 1 Axes>"
      ]
     },
     "metadata": {},
     "output_type": "display_data"
    }
   ],
   "source": [
    "ybarplot('marital')"
   ]
  },
  {
   "cell_type": "code",
   "execution_count": 45,
   "metadata": {},
   "outputs": [
    {
     "name": "stdout",
     "output_type": "stream",
     "text": [
      "education\n",
      "illiterate             0.222222\n",
      "university.degree      0.137245\n",
      "professional.course    0.113485\n",
      "high.school            0.108355\n",
      "basic.4y               0.102490\n",
      "basic.6y               0.082024\n",
      "basic.9y               0.078246\n",
      "Name: y, dtype: float64\n"
     ]
    },
    {
     "data": {
      "image/png": "[encoded data removed]",
      "text/plain": [
       "<Figure size 720x432 with 1 Axes>"
      ]
     },
     "metadata": {},
     "output_type": "display_data"
    }
   ],
   "source": [
    "ybarplot('education')"
   ]
  },
  {
   "cell_type": "code",
   "execution_count": 46,
   "metadata": {},
   "outputs": [
    {
     "name": "stdout",
     "output_type": "stream",
     "text": [
      "month\n",
      "jan    0.000000\n",
      "feb    0.000000\n",
      "mar    0.505495\n",
      "apr    0.204787\n",
      "may    0.064347\n",
      "jun    0.105115\n",
      "jul    0.090466\n",
      "aug    0.106021\n",
      "sep    0.449123\n",
      "oct    0.438719\n",
      "nov    0.101439\n",
      "dec    0.489011\n",
      "Name: y, dtype: float64\n"
     ]
    },
    {
     "data": {
      "image/png": "[encoded data removed]",
      "text/plain": [
       "<Figure size 720x432 with 1 Axes>"
      ]
     },
     "metadata": {},
     "output_type": "display_data"
    }
   ],
   "source": [
    "col = [\"jan\", \"feb\", \"mar\", 'apr', 'may', 'jun', 'jul', 'aug', 'sep', 'oct', \"nov\", \"dec\"]\n",
    "ybarplot('month', col = col)"
   ]
  },
  {
   "cell_type": "code",
   "execution_count": 47,
   "metadata": {},
   "outputs": [
    {
     "name": "stdout",
     "output_type": "stream",
     "text": [
      "day_of_week\n",
      "mon    0.099483\n",
      "tue    0.117800\n",
      "wed    0.116671\n",
      "thu    0.121188\n",
      "fri    0.108087\n",
      "Name: y, dtype: float64\n"
     ]
    },
    {
     "data": {
      "image/png": "[encoded data removed]",
      "text/plain": [
       "<Figure size 720x432 with 1 Axes>"
      ]
     },
     "metadata": {},
     "output_type": "display_data"
    }
   ],
   "source": [
    "col = [\"mon\",\"tue\",\"wed\",\"thu\",\"fri\"]\n",
    "ybarplot('day_of_week', col = col)"
   ]
  },
  {
   "cell_type": "code",
   "execution_count": 48,
   "metadata": {},
   "outputs": [
    {
     "data": {
      "image/png": "[encoded data removed]",
      "text/plain": [
       "<Figure size 720x432 with 1 Axes>"
      ]
     },
     "metadata": {},
     "output_type": "display_data"
    }
   ],
   "source": [
    "fig, ax = plt.subplots(figsize = (10,6))\n",
    "sns.set_style('whitegrid')\n",
    "ax.get_xaxis().tick_bottom()  \n",
    "ax.get_yaxis().tick_left()\n",
    "plt.title('Age distribution on y', \n",
    "          fontdict = {'fontsize': 20,\n",
    "                      'fontweight': 500})\n",
    "plt.xticks(fontsize=14) \n",
    "plt.yticks(fontsize=14)\n",
    "plt.xlabel('Y', fontsize=16)  \n",
    "plt.ylabel(\"Age\", fontsize=16)\n",
    "sns.violinplot(x = 'y', y = 'age', data = df_copy, inner = 'quartile', palette = ['#6890F0','#F08030']);\n"
   ]
  },
  {
   "cell_type": "code",
   "execution_count": 49,
   "metadata": {},
   "outputs": [],
   "source": [
    "def yviolplot(name, in_df = df_copy, returncontrol = False, col = None):\n",
    "    fig, ax = plt.subplots(figsize = (10,6))\n",
    "    sns.set_style('whitegrid')\n",
    "    ax.get_xaxis().tick_bottom()  \n",
    "    ax.get_yaxis().tick_left()\n",
    "    plt.title(name + ' distribution on y', \n",
    "              fontdict = {'fontsize': 20,\n",
    "                          'fontweight': 500})\n",
    "    plt.xticks(fontsize=14) \n",
    "    plt.yticks(fontsize=14)\n",
    "    plt.xlabel('Y', fontsize=16)  \n",
    "    plt.ylabel(name, fontsize=16)\n",
    "    sns.violinplot(x = 'y', y = name, data = in_df, \n",
    "                   inner = 'quartile', \n",
    "                   palette = ['#78C850',  # Grass\n",
    "                              '#F08030',  # Fire\n",
    "                              '#6890F0',  # Water\n",
    "                              '#A8B820',  # Bug\n",
    "                              '#A8A878',  # Normal\n",
    "                              '#A040A0',  # Poison\n",
    "                              '#F8D030',  # Electric\n",
    "                              '#E0C068',  # Ground\n",
    "                              '#EE99AC',  # Fairy\n",
    "                              '#C03028',  # Fighting\n",
    "                              '#F85888',  # Psychic\n",
    "                              '#B8A038',  # Rock\n",
    "                              '#705898',  # Ghost\n",
    "                              '#98D8D8',  # Ice\n",
    "                              '#7038F8',  # Dragon\n",
    "                             ]);\n",
    "    if returncontrol: return fig"
   ]
  },
  {
   "cell_type": "code",
   "execution_count": 51,
   "metadata": {},
   "outputs": [
    {
     "data": {
      "image/png": "[encoded data removed]",
      "text/plain": [
       "<Figure size 720x432 with 1 Axes>"
      ]
     },
     "metadata": {},
     "output_type": "display_data"
    }
   ],
   "source": [
    "yviolplot('nr.employed')"
   ]
  },
  {
   "cell_type": "code",
   "execution_count": 53,
   "metadata": {},
   "outputs": [
    {
     "name": "stdout",
     "output_type": "stream",
     "text": [
      "<class 'pandas.core.frame.DataFrame'>\n",
      "RangeIndex: 41188 entries, 0 to 41187\n",
      "Data columns (total 20 columns):\n",
      "age               41188 non-null int64\n",
      "job               40858 non-null object\n",
      "marital           41108 non-null object\n",
      "education         39457 non-null object\n",
      "default           32591 non-null object\n",
      "housing           40198 non-null object\n",
      "loan              40198 non-null object\n",
      "contact           41188 non-null object\n",
      "month             41188 non-null object\n",
      "day_of_week       41188 non-null object\n",
      "duration          41188 non-null int64\n",
      "campaign          41188 non-null int64\n",
      "pdays             41188 non-null int64\n",
      "previous          41188 non-null int64\n",
      "poutcome          41188 non-null object\n",
      "emp.var.rate      41188 non-null float64\n",
      "cons.price.idx    41188 non-null float64\n",
      "cons.conf.idx     41188 non-null float64\n",
      "euribor3m         41188 non-null float64\n",
      "nr.employed       41188 non-null float64\n",
      "dtypes: float64(5), int64(5), object(10)\n",
      "memory usage: 6.3+ MB\n"
     ]
    }
   ],
   "source": [
    "df_train.info()"
   ]
  },
  {
   "cell_type": "code",
   "execution_count": 11,
   "metadata": {},
   "outputs": [],
   "source": [
    "df_x = df_train.copy()"
   ]
  },
  {
   "cell_type": "code",
   "execution_count": 12,
   "metadata": {},
   "outputs": [],
   "source": [
    "df_x['default'] = df_x['default'].replace({'yes': 1, 'no': 0})\n",
    "df_x['housing'] = df_x['housing'].replace({'yes': 1, 'no': 0})\n",
    "df_x['loan'] = df_x['loan'].replace({'yes': 1, 'no': 0})\n",
    "df_x['contact'] = df_x['contact'].replace({'cellular': 1, 'telephone': 0})\n",
    "df_x = df_x.rename({'contact':'cellular'},axis = 1)\n",
    "df_x = df_x.drop('duration', axis = 1)\n",
    "df_x['poutcome'] = df_x['poutcome'].replace('nonexistent', np.nan)\n",
    "df_x['poutcome'] = df_x['poutcome'].replace({'success': 1, 'failure': 0})"
   ]
  },
  {
   "cell_type": "code",
   "execution_count": 17,
   "metadata": {},
   "outputs": [
    {
     "name": "stdout",
     "output_type": "stream",
     "text": [
      "<class 'pandas.core.frame.DataFrame'>\n",
      "RangeIndex: 41188 entries, 0 to 41187\n",
      "Data columns (total 19 columns):\n",
      "age               41188 non-null int64\n",
      "job               41188 non-null object\n",
      "marital           41188 non-null object\n",
      "education         41188 non-null object\n",
      "default           41188 non-null object\n",
      "housing           41188 non-null object\n",
      "loan              41188 non-null object\n",
      "cellular          41188 non-null int64\n",
      "month             41188 non-null object\n",
      "day_of_week       41188 non-null object\n",
      "campaign          41188 non-null int64\n",
      "pdays             41188 non-null int64\n",
      "previous          41188 non-null int64\n",
      "poutcome          5625 non-null float64\n",
      "emp.var.rate      41188 non-null float64\n",
      "cons.price.idx    41188 non-null float64\n",
      "cons.conf.idx     41188 non-null float64\n",
      "euribor3m         41188 non-null float64\n",
      "nr.employed       41188 non-null float64\n",
      "dtypes: float64(6), int64(5), object(8)\n",
      "memory usage: 6.0+ MB\n"
     ]
    }
   ],
   "source": [
    "df_x.info()"
   ]
  },
  {
   "cell_type": "code",
   "execution_count": 18,
   "metadata": {},
   "outputs": [
    {
     "data": {
      "text/plain": [
       "array(['housemaid', 'services', 'admin.', 'blue-collar', 'technician',\n",
       "       'retired', 'management', 'unemployed', 'self-employed', 'unknown',\n",
       "       'entrepreneur', 'student'], dtype=object)"
      ]
     },
     "execution_count": 18,
     "metadata": {},
     "output_type": "execute_result"
    }
   ],
   "source": [
    "df_x['job'].unique()"
   ]
  },
  {
   "cell_type": "code",
   "execution_count": 13,
   "metadata": {},
   "outputs": [],
   "source": [
    "df_x['month'] = df_x['month'].replace(to_replace = ['may', 'jun', 'jul', 'aug', 'oct', 'nov', 'dec', 'mar', 'apr',\n",
    "       'sep'], value = [5,6,7,8,10,11,12,3,4,9])"
   ]
  },
  {
   "cell_type": "code",
   "execution_count": 14,
   "metadata": {},
   "outputs": [],
   "source": [
    "df_x['day_of_week'] = df_x['day_of_week'].replace(to_replace = ['mon', 'tue', 'wed', 'thu', 'fri'], \n",
    "                                                  value = [1,2,3,4,5])"
   ]
  },
  {
   "cell_type": "code",
   "execution_count": 15,
   "metadata": {},
   "outputs": [],
   "source": [
    "df_x['education'] = df_x['education'].replace(to_replace = ['basic.4y', 'high.school', 'basic.6y', 'basic.9y',\n",
    "       'professional.course', 'university.degree', 'illiterate'], value = [2,5,3,4,6,7,1])"
   ]
  },
  {
   "cell_type": "code",
   "execution_count": 16,
   "metadata": {},
   "outputs": [],
   "source": [
    "le = LabelEncoder()"
   ]
  },
  {
   "cell_type": "code",
   "execution_count": 17,
   "metadata": {},
   "outputs": [],
   "source": [
    "df_x['job'] = le.fit_transform(df_x['job'].astype('str'))"
   ]
  },
  {
   "cell_type": "code",
   "execution_count": 18,
   "metadata": {},
   "outputs": [],
   "source": [
    "df_x['job'] = df_x['job'].replace({5: np.nan})"
   ]
  },
  {
   "cell_type": "code",
   "execution_count": 19,
   "metadata": {},
   "outputs": [],
   "source": [
    "df_x = pd.get_dummies(df_x)"
   ]
  },
  {
   "cell_type": "code",
   "execution_count": 20,
   "metadata": {},
   "outputs": [
    {
     "data": {
      "text/plain": [
       "(41188, 35)"
      ]
     },
     "execution_count": 20,
     "metadata": {},
     "output_type": "execute_result"
    }
   ],
   "source": [
    "df_x.values.shape"
   ]
  },
  {
   "cell_type": "code",
   "execution_count": 21,
   "metadata": {},
   "outputs": [
    {
     "data": {
      "text/plain": [
       "(41188,)"
      ]
     },
     "execution_count": 21,
     "metadata": {},
     "output_type": "execute_result"
    }
   ],
   "source": [
    "df_y.values.shape"
   ]
  },
  {
   "cell_type": "code",
   "execution_count": 24,
   "metadata": {},
   "outputs": [],
   "source": [
    "from sklearn.model_selection import train_test_split\n",
    "from sklearn.metrics import accuracy_score\n",
    "from sklearn.grid_search import GridSearchCV, RandomizedSearchCV"
   ]
  },
  {
   "cell_type": "code",
   "execution_count": 37,
   "metadata": {},
   "outputs": [],
   "source": [
    "X_train, X_test, y_train, y_test = train_test_split(df_x.values, df_y.values, test_size=0.2, random_state=13)"
   ]
  },
  {
   "cell_type": "code",
   "execution_count": 38,
   "metadata": {},
   "outputs": [],
   "source": [
    "X_train, X_vali, y_train, y_vali = train_test_split(X_train, y_train, test_size=0.2, random_state=13)"
   ]
  },
  {
   "cell_type": "code",
   "execution_count": 55,
   "metadata": {},
   "outputs": [],
   "source": [
    "dtrain = xgb.DMatrix(X_train, label=y_train)\n",
    "dvali = xgb.DMatrix(X_vali, label = y_vali)\n",
    "dtest = xgb.DMatrix(X_test)"
   ]
  },
  {
   "cell_type": "code",
   "execution_count": 56,
   "metadata": {},
   "outputs": [],
   "source": [
    "train_labels = dtrain.get_label()\n",
    "\n",
    "ratio = float(np.sum(train_labels == 0)) / np.sum(train_labels == 1)\n",
    "params['scale_pos_weight'] = ratio"
   ]
  },
  {
   "cell_type": "code",
   "execution_count": 63,
   "metadata": {},
   "outputs": [
    {
     "data": {
      "text/html": [
       "<div>\n",
       "<style scoped>\n",
       "    .dataframe tbody tr th:only-of-type {\n",
       "        vertical-align: middle;\n",
       "    }\n",
       "\n",
       "    .dataframe tbody tr th {\n",
       "        vertical-align: top;\n",
       "    }\n",
       "\n",
       "    .dataframe thead th {\n",
       "        text-align: right;\n",
       "    }\n",
       "</style>\n",
       "<table border=\"1\" class=\"dataframe\">\n",
       "  <thead>\n",
       "    <tr style=\"text-align: right;\">\n",
       "      <th>Predicted</th>\n",
       "      <th>0</th>\n",
       "      <th>1</th>\n",
       "      <th>All</th>\n",
       "    </tr>\n",
       "    <tr>\n",
       "      <th>Actual</th>\n",
       "      <th></th>\n",
       "      <th></th>\n",
       "      <th></th>\n",
       "    </tr>\n",
       "  </thead>\n",
       "  <tbody>\n",
       "    <tr>\n",
       "      <th>0</th>\n",
       "      <td>7157</td>\n",
       "      <td>158</td>\n",
       "      <td>7315</td>\n",
       "    </tr>\n",
       "    <tr>\n",
       "      <th>1</th>\n",
       "      <td>665</td>\n",
       "      <td>258</td>\n",
       "      <td>923</td>\n",
       "    </tr>\n",
       "    <tr>\n",
       "      <th>All</th>\n",
       "      <td>7822</td>\n",
       "      <td>416</td>\n",
       "      <td>8238</td>\n",
       "    </tr>\n",
       "  </tbody>\n",
       "</table>\n",
       "</div>"
      ],
      "text/plain": [
       "Predicted     0    1   All\n",
       "Actual                    \n",
       "0          7157  158  7315\n",
       "1           665  258   923\n",
       "All        7822  416  8238"
      ]
     },
     "execution_count": 63,
     "metadata": {},
     "output_type": "execute_result"
    }
   ],
   "source": [
    "bst = xgb.train(params, dtrain, num_rounds)\n",
    "y_test_preds = (bst.predict(dtest) > 0.5).astype('int')\n",
    "\n",
    "pd.crosstab(\n",
    "    pd.Series(y_test, name='Actual'),\n",
    "    pd.Series(y_test_preds, name='Predicted'),\n",
    "    margins=True\n",
    ")"
   ]
  },
  {
   "cell_type": "code",
   "execution_count": 64,
   "metadata": {},
   "outputs": [
    {
     "name": "stdout",
     "output_type": "stream",
     "text": [
      "Accuracy: 0.90\n",
      "Precision: 0.62\n",
      "Recall: 0.28\n"
     ]
    }
   ],
   "source": [
    "print('Accuracy: {0:.2f}'.format(accuracy_score(y_test, y_test_preds)))\n",
    "print('Precision: {0:.2f}'.format(precision_score(y_test, y_test_preds)))\n",
    "print('Recall: {0:.2f}'.format(recall_score(y_test, y_test_preds)))"
   ]
  },
  {
   "cell_type": "code",
   "execution_count": 60,
   "metadata": {},
   "outputs": [],
   "source": [
    "params = {\n",
    "    'objective': 'binary:logistic',\n",
    "    'max_depth': 4,\n",
    "    'learning_rate': 0.02,\n",
    "    'silent': 1,    \n",
    "    'early_stopping_rounds': 30,\n",
    "    'eval_metric': 'auc'\n",
    "}\n",
    "\n",
    "num_rounds = 2000\n",
    "\n",
    "watchlist  = [(dvali,'test'), (dtrain,'train')]"
   ]
  },
  {
   "cell_type": "code",
   "execution_count": 36,
   "metadata": {},
   "outputs": [
    {
     "data": {
      "text/plain": [
       "array([0., 0., 0., ..., 0., 0., 0.], dtype=float32)"
      ]
     },
     "execution_count": 36,
     "metadata": {},
     "output_type": "execute_result"
    }
   ],
   "source": [
    "dtrain.get_label()"
   ]
  },
  {
   "cell_type": "code",
   "execution_count": 43,
   "metadata": {},
   "outputs": [
    {
     "name": "stdout",
     "output_type": "stream",
     "text": [
      "[0]\ttest-error:0.105159\ttrain-error:0.098938\n",
      "[1]\ttest-error:0.105159\ttrain-error:0.098938\n",
      "[2]\ttest-error:0.105159\ttrain-error:0.098938\n",
      "[3]\ttest-error:0.105159\ttrain-error:0.098938\n",
      "[4]\ttest-error:0.105615\ttrain-error:0.0989\n",
      "[5]\ttest-error:0.105159\ttrain-error:0.098938\n",
      "[6]\ttest-error:0.105615\ttrain-error:0.0989\n",
      "[7]\ttest-error:0.105615\ttrain-error:0.0989\n",
      "[8]\ttest-error:0.105615\ttrain-error:0.0989\n",
      "[9]\ttest-error:0.105615\ttrain-error:0.0989\n",
      "[10]\ttest-error:0.105615\ttrain-error:0.0989\n",
      "[11]\ttest-error:0.105615\ttrain-error:0.0989\n",
      "[12]\ttest-error:0.105615\ttrain-error:0.0989\n",
      "[13]\ttest-error:0.105918\ttrain-error:0.098862\n",
      "[14]\ttest-error:0.105463\ttrain-error:0.098976\n",
      "[15]\ttest-error:0.105463\ttrain-error:0.098976\n",
      "[16]\ttest-error:0.105463\ttrain-error:0.098976\n",
      "[17]\ttest-error:0.105463\ttrain-error:0.098976\n",
      "[18]\ttest-error:0.105463\ttrain-error:0.098976\n",
      "[19]\ttest-error:0.105463\ttrain-error:0.098976\n",
      "[20]\ttest-error:0.105463\ttrain-error:0.098976\n",
      "[21]\ttest-error:0.105159\ttrain-error:0.098938\n",
      "[22]\ttest-error:0.105463\ttrain-error:0.098976\n",
      "[23]\ttest-error:0.105159\ttrain-error:0.098976\n",
      "[24]\ttest-error:0.105159\ttrain-error:0.098976\n",
      "[25]\ttest-error:0.104704\ttrain-error:0.099014\n",
      "[26]\ttest-error:0.104704\ttrain-error:0.099014\n",
      "[27]\ttest-error:0.104704\ttrain-error:0.098938\n",
      "[28]\ttest-error:0.104704\ttrain-error:0.098938\n",
      "[29]\ttest-error:0.104704\ttrain-error:0.098938\n",
      "[30]\ttest-error:0.104704\ttrain-error:0.098938\n",
      "[31]\ttest-error:0.104704\ttrain-error:0.098938\n",
      "[32]\ttest-error:0.104704\ttrain-error:0.098938\n",
      "[33]\ttest-error:0.104704\ttrain-error:0.0989\n",
      "[34]\ttest-error:0.104704\ttrain-error:0.0989\n",
      "[35]\ttest-error:0.104704\ttrain-error:0.0989\n",
      "[36]\ttest-error:0.104856\ttrain-error:0.09871\n",
      "[37]\ttest-error:0.104704\ttrain-error:0.0989\n",
      "[38]\ttest-error:0.104704\ttrain-error:0.0989\n",
      "[39]\ttest-error:0.104704\ttrain-error:0.0989\n",
      "[40]\ttest-error:0.104552\ttrain-error:0.0989\n",
      "[41]\ttest-error:0.104704\ttrain-error:0.098862\n",
      "[42]\ttest-error:0.104704\ttrain-error:0.098824\n",
      "[43]\ttest-error:0.104704\ttrain-error:0.098824\n",
      "[44]\ttest-error:0.104704\ttrain-error:0.0989\n",
      "[45]\ttest-error:0.104552\ttrain-error:0.098824\n",
      "[46]\ttest-error:0.104552\ttrain-error:0.0989\n",
      "[47]\ttest-error:0.104552\ttrain-error:0.098824\n",
      "[48]\ttest-error:0.104552\ttrain-error:0.0989\n",
      "[49]\ttest-error:0.104552\ttrain-error:0.098824\n",
      "[50]\ttest-error:0.104552\ttrain-error:0.098824\n",
      "[51]\ttest-error:0.104097\ttrain-error:0.098634\n",
      "[52]\ttest-error:0.104097\ttrain-error:0.098634\n",
      "[53]\ttest-error:0.104097\ttrain-error:0.09871\n",
      "[54]\ttest-error:0.104097\ttrain-error:0.09871\n",
      "[55]\ttest-error:0.104097\ttrain-error:0.098672\n",
      "[56]\ttest-error:0.104097\ttrain-error:0.098672\n",
      "[57]\ttest-error:0.104097\ttrain-error:0.098672\n",
      "[58]\ttest-error:0.104097\ttrain-error:0.098634\n",
      "[59]\ttest-error:0.104097\ttrain-error:0.098634\n",
      "[60]\ttest-error:0.104097\ttrain-error:0.098634\n",
      "[61]\ttest-error:0.104097\ttrain-error:0.098672\n",
      "[62]\ttest-error:0.104097\ttrain-error:0.098634\n",
      "[63]\ttest-error:0.104097\ttrain-error:0.098672\n",
      "[64]\ttest-error:0.104097\ttrain-error:0.098672\n",
      "[65]\ttest-error:0.104097\ttrain-error:0.098634\n",
      "[66]\ttest-error:0.104097\ttrain-error:0.098634\n",
      "[67]\ttest-error:0.104097\ttrain-error:0.098634\n",
      "[68]\ttest-error:0.104097\ttrain-error:0.098634\n",
      "[69]\ttest-error:0.104097\ttrain-error:0.098634\n",
      "[70]\ttest-error:0.104097\ttrain-error:0.098596\n",
      "[71]\ttest-error:0.104097\ttrain-error:0.098596\n",
      "[72]\ttest-error:0.104097\ttrain-error:0.09852\n",
      "[73]\ttest-error:0.104097\ttrain-error:0.098558\n",
      "[74]\ttest-error:0.104097\ttrain-error:0.09852\n",
      "[75]\ttest-error:0.104097\ttrain-error:0.09852\n",
      "[76]\ttest-error:0.104097\ttrain-error:0.098483\n",
      "[77]\ttest-error:0.104097\ttrain-error:0.098407\n",
      "[78]\ttest-error:0.104097\ttrain-error:0.098483\n",
      "[79]\ttest-error:0.104097\ttrain-error:0.09852\n",
      "[80]\ttest-error:0.104097\ttrain-error:0.098407\n",
      "[81]\ttest-error:0.104097\ttrain-error:0.098483\n",
      "[82]\ttest-error:0.104097\ttrain-error:0.098483\n",
      "[83]\ttest-error:0.104097\ttrain-error:0.098483\n",
      "[84]\ttest-error:0.104097\ttrain-error:0.09852\n",
      "[85]\ttest-error:0.104097\ttrain-error:0.09852\n",
      "[86]\ttest-error:0.104097\ttrain-error:0.098483\n",
      "[87]\ttest-error:0.104097\ttrain-error:0.098331\n",
      "[88]\ttest-error:0.103945\ttrain-error:0.098369\n",
      "[89]\ttest-error:0.103945\ttrain-error:0.098369\n",
      "[90]\ttest-error:0.103945\ttrain-error:0.098369\n",
      "[91]\ttest-error:0.103945\ttrain-error:0.098369\n",
      "[92]\ttest-error:0.103945\ttrain-error:0.098369\n",
      "[93]\ttest-error:0.103945\ttrain-error:0.098369\n",
      "[94]\ttest-error:0.103945\ttrain-error:0.098407\n",
      "[95]\ttest-error:0.103945\ttrain-error:0.098407\n",
      "[96]\ttest-error:0.103945\ttrain-error:0.098407\n",
      "[97]\ttest-error:0.103945\ttrain-error:0.098407\n",
      "[98]\ttest-error:0.103945\ttrain-error:0.098407\n",
      "[99]\ttest-error:0.103945\ttrain-error:0.098407\n",
      "[100]\ttest-error:0.103945\ttrain-error:0.098407\n",
      "[101]\ttest-error:0.10349\ttrain-error:0.09852\n",
      "[102]\ttest-error:0.10349\ttrain-error:0.09852\n",
      "[103]\ttest-error:0.103945\ttrain-error:0.098407\n",
      "[104]\ttest-error:0.10349\ttrain-error:0.098483\n",
      "[105]\ttest-error:0.10349\ttrain-error:0.098407\n",
      "[106]\ttest-error:0.10349\ttrain-error:0.098483\n",
      "[107]\ttest-error:0.10349\ttrain-error:0.098445\n",
      "[108]\ttest-error:0.103338\ttrain-error:0.09852\n",
      "[109]\ttest-error:0.103338\ttrain-error:0.098558\n",
      "[110]\ttest-error:0.103338\ttrain-error:0.098558\n",
      "[111]\ttest-error:0.103338\ttrain-error:0.098558\n",
      "[112]\ttest-error:0.103338\ttrain-error:0.098558\n",
      "[113]\ttest-error:0.10349\ttrain-error:0.09852\n",
      "[114]\ttest-error:0.10349\ttrain-error:0.09852\n",
      "[115]\ttest-error:0.10349\ttrain-error:0.09852\n",
      "[116]\ttest-error:0.10349\ttrain-error:0.098407\n",
      "[117]\ttest-error:0.10349\ttrain-error:0.098407\n",
      "[118]\ttest-error:0.10349\ttrain-error:0.098445\n",
      "[119]\ttest-error:0.10349\ttrain-error:0.098445\n",
      "[120]\ttest-error:0.10349\ttrain-error:0.098445\n",
      "[121]\ttest-error:0.10349\ttrain-error:0.098445\n",
      "[122]\ttest-error:0.10349\ttrain-error:0.098445\n",
      "[123]\ttest-error:0.10349\ttrain-error:0.098445\n",
      "[124]\ttest-error:0.10349\ttrain-error:0.098445\n",
      "[125]\ttest-error:0.103338\ttrain-error:0.09852\n",
      "[126]\ttest-error:0.103338\ttrain-error:0.09852\n",
      "[127]\ttest-error:0.103338\ttrain-error:0.09852\n",
      "[128]\ttest-error:0.103338\ttrain-error:0.098483\n",
      "[129]\ttest-error:0.103338\ttrain-error:0.09852\n",
      "[130]\ttest-error:0.103338\ttrain-error:0.098596\n",
      "[131]\ttest-error:0.103187\ttrain-error:0.098634\n",
      "[132]\ttest-error:0.103338\ttrain-error:0.098596\n",
      "[133]\ttest-error:0.103338\ttrain-error:0.09852\n",
      "[134]\ttest-error:0.103187\ttrain-error:0.098596\n",
      "[135]\ttest-error:0.103338\ttrain-error:0.098596\n",
      "[136]\ttest-error:0.103338\ttrain-error:0.098558\n",
      "[137]\ttest-error:0.103338\ttrain-error:0.098558\n",
      "[138]\ttest-error:0.103338\ttrain-error:0.098558\n",
      "[139]\ttest-error:0.103338\ttrain-error:0.098558\n",
      "[140]\ttest-error:0.103338\ttrain-error:0.098558\n",
      "[141]\ttest-error:0.10349\ttrain-error:0.098483\n",
      "[142]\ttest-error:0.10349\ttrain-error:0.09852\n",
      "[143]\ttest-error:0.103642\ttrain-error:0.09852\n",
      "[144]\ttest-error:0.103642\ttrain-error:0.09852\n",
      "[145]\ttest-error:0.103642\ttrain-error:0.09852\n",
      "[146]\ttest-error:0.103642\ttrain-error:0.09852\n",
      "[147]\ttest-error:0.103642\ttrain-error:0.098445\n",
      "[148]\ttest-error:0.103945\ttrain-error:0.098407\n",
      "[149]\ttest-error:0.103642\ttrain-error:0.098483\n",
      "[150]\ttest-error:0.103642\ttrain-error:0.098483\n",
      "[151]\ttest-error:0.103945\ttrain-error:0.098445\n",
      "[152]\ttest-error:0.104097\ttrain-error:0.098445\n",
      "[153]\ttest-error:0.103945\ttrain-error:0.098445\n",
      "[154]\ttest-error:0.104097\ttrain-error:0.098445\n",
      "[155]\ttest-error:0.103794\ttrain-error:0.09852\n",
      "[156]\ttest-error:0.103945\ttrain-error:0.09852\n",
      "[157]\ttest-error:0.103794\ttrain-error:0.098483\n",
      "[158]\ttest-error:0.103642\ttrain-error:0.09852\n",
      "[159]\ttest-error:0.103945\ttrain-error:0.09852\n",
      "[160]\ttest-error:0.103945\ttrain-error:0.098445\n",
      "[161]\ttest-error:0.104097\ttrain-error:0.098407\n",
      "[162]\ttest-error:0.104097\ttrain-error:0.098331\n",
      "[163]\ttest-error:0.104097\ttrain-error:0.098331\n",
      "[164]\ttest-error:0.104097\ttrain-error:0.098217\n",
      "[165]\ttest-error:0.104249\ttrain-error:0.098255\n",
      "[166]\ttest-error:0.104249\ttrain-error:0.098331\n",
      "[167]\ttest-error:0.104249\ttrain-error:0.098331\n",
      "[168]\ttest-error:0.104249\ttrain-error:0.098217\n",
      "[169]\ttest-error:0.104249\ttrain-error:0.098217\n",
      "[170]\ttest-error:0.104249\ttrain-error:0.098179\n",
      "[171]\ttest-error:0.104249\ttrain-error:0.098179\n",
      "[172]\ttest-error:0.104097\ttrain-error:0.098065\n",
      "[173]\ttest-error:0.104249\ttrain-error:0.098103\n",
      "[174]\ttest-error:0.104249\ttrain-error:0.097989\n",
      "[175]\ttest-error:0.104401\ttrain-error:0.097989\n",
      "[176]\ttest-error:0.104097\ttrain-error:0.097914\n",
      "[177]\ttest-error:0.104097\ttrain-error:0.097876\n",
      "[178]\ttest-error:0.104097\ttrain-error:0.097876\n"
     ]
    },
    {
     "name": "stdout",
     "output_type": "stream",
     "text": [
      "[179]\ttest-error:0.104401\ttrain-error:0.097838\n",
      "[180]\ttest-error:0.104097\ttrain-error:0.097762\n",
      "[181]\ttest-error:0.104097\ttrain-error:0.0978\n",
      "[182]\ttest-error:0.104552\ttrain-error:0.097648\n",
      "[183]\ttest-error:0.104552\ttrain-error:0.097648\n",
      "[184]\ttest-error:0.104552\ttrain-error:0.097686\n",
      "[185]\ttest-error:0.104552\ttrain-error:0.097648\n",
      "[186]\ttest-error:0.104552\ttrain-error:0.097572\n",
      "[187]\ttest-error:0.104552\ttrain-error:0.09761\n",
      "[188]\ttest-error:0.104704\ttrain-error:0.097648\n",
      "[189]\ttest-error:0.104401\ttrain-error:0.09761\n",
      "[190]\ttest-error:0.104401\ttrain-error:0.09761\n",
      "[191]\ttest-error:0.104401\ttrain-error:0.09761\n",
      "[192]\ttest-error:0.104249\ttrain-error:0.097572\n",
      "[193]\ttest-error:0.104249\ttrain-error:0.09761\n",
      "[194]\ttest-error:0.104249\ttrain-error:0.09761\n",
      "[195]\ttest-error:0.104249\ttrain-error:0.097572\n",
      "[196]\ttest-error:0.104401\ttrain-error:0.097572\n",
      "[197]\ttest-error:0.104401\ttrain-error:0.097534\n",
      "[198]\ttest-error:0.104401\ttrain-error:0.097572\n",
      "[199]\ttest-error:0.104401\ttrain-error:0.09761\n",
      "[200]\ttest-error:0.104401\ttrain-error:0.09761\n",
      "[201]\ttest-error:0.104401\ttrain-error:0.097648\n",
      "[202]\ttest-error:0.103945\ttrain-error:0.097648\n",
      "[203]\ttest-error:0.104097\ttrain-error:0.09761\n",
      "[204]\ttest-error:0.104097\ttrain-error:0.09761\n",
      "[205]\ttest-error:0.103945\ttrain-error:0.097686\n",
      "[206]\ttest-error:0.104097\ttrain-error:0.097648\n",
      "[207]\ttest-error:0.103945\ttrain-error:0.09761\n",
      "[208]\ttest-error:0.103642\ttrain-error:0.097534\n",
      "[209]\ttest-error:0.103642\ttrain-error:0.097534\n",
      "[210]\ttest-error:0.10349\ttrain-error:0.097458\n",
      "[211]\ttest-error:0.10349\ttrain-error:0.097496\n",
      "[212]\ttest-error:0.10349\ttrain-error:0.09742\n",
      "[213]\ttest-error:0.10349\ttrain-error:0.097458\n",
      "[214]\ttest-error:0.10349\ttrain-error:0.09742\n",
      "[215]\ttest-error:0.10349\ttrain-error:0.09742\n",
      "[216]\ttest-error:0.10349\ttrain-error:0.097344\n",
      "[217]\ttest-error:0.10349\ttrain-error:0.097344\n",
      "[218]\ttest-error:0.10349\ttrain-error:0.097269\n",
      "[219]\ttest-error:0.10349\ttrain-error:0.097307\n",
      "[220]\ttest-error:0.10349\ttrain-error:0.097307\n",
      "[221]\ttest-error:0.10349\ttrain-error:0.097307\n",
      "[222]\ttest-error:0.10349\ttrain-error:0.097307\n",
      "[223]\ttest-error:0.103642\ttrain-error:0.097231\n",
      "[224]\ttest-error:0.103642\ttrain-error:0.097193\n",
      "[225]\ttest-error:0.103642\ttrain-error:0.097155\n",
      "[226]\ttest-error:0.103642\ttrain-error:0.097079\n",
      "[227]\ttest-error:0.10349\ttrain-error:0.097117\n",
      "[228]\ttest-error:0.103642\ttrain-error:0.097079\n",
      "[229]\ttest-error:0.103642\ttrain-error:0.097079\n",
      "[230]\ttest-error:0.103642\ttrain-error:0.097117\n",
      "[231]\ttest-error:0.103642\ttrain-error:0.097079\n",
      "[232]\ttest-error:0.103642\ttrain-error:0.097117\n",
      "[233]\ttest-error:0.10349\ttrain-error:0.097155\n",
      "[234]\ttest-error:0.103338\ttrain-error:0.097041\n",
      "[235]\ttest-error:0.103187\ttrain-error:0.0967\n",
      "[236]\ttest-error:0.103642\ttrain-error:0.0967\n",
      "[237]\ttest-error:0.10349\ttrain-error:0.096624\n",
      "[238]\ttest-error:0.10349\ttrain-error:0.096624\n",
      "[239]\ttest-error:0.103338\ttrain-error:0.096737\n",
      "[240]\ttest-error:0.10349\ttrain-error:0.0967\n",
      "[241]\ttest-error:0.103642\ttrain-error:0.096624\n",
      "[242]\ttest-error:0.10349\ttrain-error:0.09651\n",
      "[243]\ttest-error:0.103187\ttrain-error:0.096358\n",
      "[244]\ttest-error:0.103642\ttrain-error:0.096396\n",
      "[245]\ttest-error:0.103338\ttrain-error:0.096282\n",
      "[246]\ttest-error:0.10349\ttrain-error:0.096282\n",
      "[247]\ttest-error:0.103187\ttrain-error:0.096244\n",
      "[248]\ttest-error:0.10349\ttrain-error:0.09632\n",
      "[249]\ttest-error:0.103035\ttrain-error:0.09632\n",
      "[250]\ttest-error:0.103035\ttrain-error:0.096168\n",
      "[251]\ttest-error:0.103187\ttrain-error:0.095979\n",
      "[252]\ttest-error:0.102883\ttrain-error:0.096017\n",
      "[253]\ttest-error:0.103035\ttrain-error:0.095979\n",
      "[254]\ttest-error:0.103035\ttrain-error:0.095865\n",
      "[255]\ttest-error:0.103035\ttrain-error:0.095827\n",
      "[256]\ttest-error:0.103035\ttrain-error:0.095751\n",
      "[257]\ttest-error:0.103035\ttrain-error:0.095675\n",
      "[258]\ttest-error:0.103187\ttrain-error:0.095524\n",
      "[259]\ttest-error:0.103338\ttrain-error:0.095599\n",
      "[260]\ttest-error:0.103035\ttrain-error:0.095448\n",
      "[261]\ttest-error:0.103035\ttrain-error:0.095486\n",
      "[262]\ttest-error:0.103035\ttrain-error:0.095599\n",
      "[263]\ttest-error:0.103187\ttrain-error:0.095561\n",
      "[264]\ttest-error:0.103187\ttrain-error:0.095524\n",
      "[265]\ttest-error:0.102883\ttrain-error:0.095599\n",
      "[266]\ttest-error:0.102883\ttrain-error:0.095599\n",
      "[267]\ttest-error:0.102883\ttrain-error:0.095561\n",
      "[268]\ttest-error:0.102883\ttrain-error:0.095524\n",
      "[269]\ttest-error:0.103035\ttrain-error:0.095524\n",
      "[270]\ttest-error:0.103035\ttrain-error:0.095486\n",
      "[271]\ttest-error:0.102883\ttrain-error:0.095524\n",
      "[272]\ttest-error:0.103035\ttrain-error:0.095524\n",
      "[273]\ttest-error:0.103035\ttrain-error:0.095372\n",
      "[274]\ttest-error:0.103035\ttrain-error:0.09541\n",
      "[275]\ttest-error:0.103035\ttrain-error:0.095524\n",
      "[276]\ttest-error:0.103187\ttrain-error:0.09541\n",
      "[277]\ttest-error:0.103187\ttrain-error:0.095296\n",
      "[278]\ttest-error:0.103338\ttrain-error:0.095296\n",
      "[279]\ttest-error:0.103338\ttrain-error:0.095296\n",
      "[280]\ttest-error:0.103338\ttrain-error:0.095258\n",
      "[281]\ttest-error:0.103338\ttrain-error:0.095334\n",
      "[282]\ttest-error:0.103187\ttrain-error:0.095334\n",
      "[283]\ttest-error:0.103187\ttrain-error:0.095296\n",
      "[284]\ttest-error:0.103187\ttrain-error:0.095296\n",
      "[285]\ttest-error:0.10349\ttrain-error:0.095296\n",
      "[286]\ttest-error:0.103338\ttrain-error:0.095296\n",
      "[287]\ttest-error:0.103338\ttrain-error:0.09522\n",
      "[288]\ttest-error:0.103338\ttrain-error:0.095182\n",
      "[289]\ttest-error:0.103338\ttrain-error:0.095182\n",
      "[290]\ttest-error:0.103338\ttrain-error:0.09503\n",
      "[291]\ttest-error:0.103187\ttrain-error:0.094954\n",
      "[292]\ttest-error:0.103035\ttrain-error:0.095068\n",
      "[293]\ttest-error:0.102883\ttrain-error:0.094992\n",
      "[294]\ttest-error:0.102883\ttrain-error:0.095068\n",
      "[295]\ttest-error:0.102731\ttrain-error:0.095068\n",
      "[296]\ttest-error:0.102731\ttrain-error:0.095106\n",
      "[297]\ttest-error:0.102731\ttrain-error:0.095106\n",
      "[298]\ttest-error:0.102731\ttrain-error:0.095068\n",
      "[299]\ttest-error:0.102731\ttrain-error:0.095068\n",
      "[300]\ttest-error:0.103035\ttrain-error:0.095106\n",
      "[301]\ttest-error:0.103035\ttrain-error:0.095144\n",
      "[302]\ttest-error:0.103035\ttrain-error:0.095182\n",
      "[303]\ttest-error:0.103187\ttrain-error:0.094992\n",
      "[304]\ttest-error:0.103187\ttrain-error:0.094954\n",
      "[305]\ttest-error:0.103035\ttrain-error:0.094879\n",
      "[306]\ttest-error:0.103035\ttrain-error:0.094917\n",
      "[307]\ttest-error:0.103187\ttrain-error:0.094992\n",
      "[308]\ttest-error:0.103187\ttrain-error:0.094917\n",
      "[309]\ttest-error:0.103187\ttrain-error:0.094917\n",
      "[310]\ttest-error:0.103187\ttrain-error:0.094917\n",
      "[311]\ttest-error:0.103187\ttrain-error:0.094879\n",
      "[312]\ttest-error:0.103187\ttrain-error:0.094841\n",
      "[313]\ttest-error:0.103187\ttrain-error:0.094879\n",
      "[314]\ttest-error:0.103187\ttrain-error:0.094727\n",
      "[315]\ttest-error:0.103187\ttrain-error:0.094689\n",
      "[316]\ttest-error:0.103187\ttrain-error:0.094689\n",
      "[317]\ttest-error:0.103338\ttrain-error:0.094651\n",
      "[318]\ttest-error:0.10349\ttrain-error:0.094575\n",
      "[319]\ttest-error:0.10349\ttrain-error:0.094613\n",
      "[320]\ttest-error:0.10349\ttrain-error:0.094575\n",
      "[321]\ttest-error:0.10349\ttrain-error:0.094613\n",
      "[322]\ttest-error:0.10349\ttrain-error:0.094651\n",
      "[323]\ttest-error:0.10349\ttrain-error:0.094575\n",
      "[324]\ttest-error:0.103642\ttrain-error:0.094613\n",
      "[325]\ttest-error:0.103642\ttrain-error:0.094613\n",
      "[326]\ttest-error:0.103642\ttrain-error:0.094651\n",
      "[327]\ttest-error:0.103642\ttrain-error:0.094575\n",
      "[328]\ttest-error:0.103642\ttrain-error:0.094651\n",
      "[329]\ttest-error:0.103642\ttrain-error:0.094613\n",
      "[330]\ttest-error:0.103642\ttrain-error:0.094613\n",
      "[331]\ttest-error:0.103794\ttrain-error:0.094575\n",
      "[332]\ttest-error:0.103794\ttrain-error:0.094575\n",
      "[333]\ttest-error:0.103794\ttrain-error:0.094575\n",
      "[334]\ttest-error:0.103794\ttrain-error:0.094613\n",
      "[335]\ttest-error:0.103794\ttrain-error:0.094575\n",
      "[336]\ttest-error:0.103794\ttrain-error:0.094537\n",
      "[337]\ttest-error:0.103794\ttrain-error:0.094499\n",
      "[338]\ttest-error:0.103794\ttrain-error:0.094537\n",
      "[339]\ttest-error:0.103642\ttrain-error:0.094537\n",
      "[340]\ttest-error:0.103642\ttrain-error:0.094537\n",
      "[341]\ttest-error:0.103642\ttrain-error:0.094461\n",
      "[342]\ttest-error:0.103642\ttrain-error:0.094461\n",
      "[343]\ttest-error:0.103642\ttrain-error:0.094461\n",
      "[344]\ttest-error:0.103642\ttrain-error:0.094461\n",
      "[345]\ttest-error:0.103642\ttrain-error:0.094461\n",
      "[346]\ttest-error:0.10349\ttrain-error:0.094423\n",
      "[347]\ttest-error:0.10349\ttrain-error:0.094385\n",
      "[348]\ttest-error:0.10349\ttrain-error:0.094423\n",
      "[349]\ttest-error:0.10349\ttrain-error:0.094423\n",
      "[350]\ttest-error:0.10349\ttrain-error:0.094423\n",
      "[351]\ttest-error:0.10349\ttrain-error:0.094423\n",
      "[352]\ttest-error:0.10349\ttrain-error:0.094347\n",
      "[353]\ttest-error:0.10349\ttrain-error:0.09431\n",
      "[354]\ttest-error:0.10349\ttrain-error:0.09431\n"
     ]
    },
    {
     "name": "stdout",
     "output_type": "stream",
     "text": [
      "[355]\ttest-error:0.10349\ttrain-error:0.09431\n",
      "[356]\ttest-error:0.10349\ttrain-error:0.09431\n",
      "[357]\ttest-error:0.10349\ttrain-error:0.09431\n",
      "[358]\ttest-error:0.10349\ttrain-error:0.094272\n",
      "[359]\ttest-error:0.10349\ttrain-error:0.094234\n",
      "[360]\ttest-error:0.10349\ttrain-error:0.094234\n",
      "[361]\ttest-error:0.103187\ttrain-error:0.094196\n",
      "[362]\ttest-error:0.103187\ttrain-error:0.094234\n",
      "[363]\ttest-error:0.103187\ttrain-error:0.094158\n",
      "[364]\ttest-error:0.103187\ttrain-error:0.09412\n",
      "[365]\ttest-error:0.103187\ttrain-error:0.094158\n",
      "[366]\ttest-error:0.103187\ttrain-error:0.094158\n",
      "[367]\ttest-error:0.103187\ttrain-error:0.094158\n",
      "[368]\ttest-error:0.103035\ttrain-error:0.094158\n",
      "[369]\ttest-error:0.103187\ttrain-error:0.094082\n",
      "[370]\ttest-error:0.103187\ttrain-error:0.094044\n",
      "[371]\ttest-error:0.103187\ttrain-error:0.094044\n",
      "[372]\ttest-error:0.103187\ttrain-error:0.094044\n",
      "[373]\ttest-error:0.103187\ttrain-error:0.093968\n",
      "[374]\ttest-error:0.103187\ttrain-error:0.093968\n",
      "[375]\ttest-error:0.103187\ttrain-error:0.094044\n",
      "[376]\ttest-error:0.103187\ttrain-error:0.094006\n",
      "[377]\ttest-error:0.103187\ttrain-error:0.09393\n",
      "[378]\ttest-error:0.103187\ttrain-error:0.09393\n",
      "[379]\ttest-error:0.103187\ttrain-error:0.09393\n",
      "[380]\ttest-error:0.103187\ttrain-error:0.09393\n",
      "[381]\ttest-error:0.103187\ttrain-error:0.09393\n",
      "[382]\ttest-error:0.103187\ttrain-error:0.09393\n",
      "[383]\ttest-error:0.103187\ttrain-error:0.094044\n",
      "[384]\ttest-error:0.103338\ttrain-error:0.094044\n",
      "[385]\ttest-error:0.103338\ttrain-error:0.094006\n",
      "[386]\ttest-error:0.103338\ttrain-error:0.094044\n",
      "[387]\ttest-error:0.103338\ttrain-error:0.094006\n",
      "[388]\ttest-error:0.103187\ttrain-error:0.094044\n",
      "[389]\ttest-error:0.103187\ttrain-error:0.094044\n",
      "[390]\ttest-error:0.103338\ttrain-error:0.093968\n",
      "[391]\ttest-error:0.103338\ttrain-error:0.094006\n",
      "[392]\ttest-error:0.103338\ttrain-error:0.094006\n",
      "[393]\ttest-error:0.103187\ttrain-error:0.093968\n",
      "[394]\ttest-error:0.103187\ttrain-error:0.094044\n",
      "[395]\ttest-error:0.102883\ttrain-error:0.094044\n",
      "[396]\ttest-error:0.102883\ttrain-error:0.094006\n",
      "[397]\ttest-error:0.102731\ttrain-error:0.094044\n",
      "[398]\ttest-error:0.102731\ttrain-error:0.093968\n",
      "[399]\ttest-error:0.102731\ttrain-error:0.094082\n",
      "[400]\ttest-error:0.102731\ttrain-error:0.094044\n",
      "[401]\ttest-error:0.102731\ttrain-error:0.093968\n",
      "[402]\ttest-error:0.102731\ttrain-error:0.093968\n",
      "[403]\ttest-error:0.102731\ttrain-error:0.093968\n",
      "[404]\ttest-error:0.102731\ttrain-error:0.09393\n",
      "[405]\ttest-error:0.10258\ttrain-error:0.093816\n",
      "[406]\ttest-error:0.102731\ttrain-error:0.093816\n",
      "[407]\ttest-error:0.102731\ttrain-error:0.09393\n",
      "[408]\ttest-error:0.102731\ttrain-error:0.093854\n",
      "[409]\ttest-error:0.102883\ttrain-error:0.093816\n",
      "[410]\ttest-error:0.102731\ttrain-error:0.093741\n",
      "[411]\ttest-error:0.102883\ttrain-error:0.093741\n",
      "[412]\ttest-error:0.102883\ttrain-error:0.093741\n",
      "[413]\ttest-error:0.102731\ttrain-error:0.093703\n",
      "[414]\ttest-error:0.102883\ttrain-error:0.093627\n",
      "[415]\ttest-error:0.102731\ttrain-error:0.093627\n",
      "[416]\ttest-error:0.102731\ttrain-error:0.093627\n",
      "[417]\ttest-error:0.102731\ttrain-error:0.093665\n",
      "[418]\ttest-error:0.102731\ttrain-error:0.093665\n",
      "[419]\ttest-error:0.102731\ttrain-error:0.093665\n",
      "[420]\ttest-error:0.102731\ttrain-error:0.093665\n",
      "[421]\ttest-error:0.102731\ttrain-error:0.093589\n",
      "[422]\ttest-error:0.102731\ttrain-error:0.093665\n",
      "[423]\ttest-error:0.10258\ttrain-error:0.093551\n",
      "[424]\ttest-error:0.10258\ttrain-error:0.093513\n",
      "[425]\ttest-error:0.102731\ttrain-error:0.093513\n",
      "[426]\ttest-error:0.10258\ttrain-error:0.093475\n",
      "[427]\ttest-error:0.102731\ttrain-error:0.093513\n",
      "[428]\ttest-error:0.10258\ttrain-error:0.093551\n",
      "[429]\ttest-error:0.10258\ttrain-error:0.093551\n",
      "[430]\ttest-error:0.10258\ttrain-error:0.093627\n",
      "[431]\ttest-error:0.10258\ttrain-error:0.093551\n",
      "[432]\ttest-error:0.10258\ttrain-error:0.093551\n",
      "[433]\ttest-error:0.102428\ttrain-error:0.093513\n",
      "[434]\ttest-error:0.102428\ttrain-error:0.093513\n",
      "[435]\ttest-error:0.102428\ttrain-error:0.093513\n",
      "[436]\ttest-error:0.102428\ttrain-error:0.093475\n",
      "[437]\ttest-error:0.102428\ttrain-error:0.093475\n",
      "[438]\ttest-error:0.102428\ttrain-error:0.093475\n",
      "[439]\ttest-error:0.102428\ttrain-error:0.093437\n",
      "[440]\ttest-error:0.102428\ttrain-error:0.093437\n",
      "[441]\ttest-error:0.102276\ttrain-error:0.093399\n",
      "[442]\ttest-error:0.102276\ttrain-error:0.093475\n",
      "[443]\ttest-error:0.102276\ttrain-error:0.093399\n",
      "[444]\ttest-error:0.102276\ttrain-error:0.093323\n",
      "[445]\ttest-error:0.102276\ttrain-error:0.093285\n",
      "[446]\ttest-error:0.102124\ttrain-error:0.093285\n",
      "[447]\ttest-error:0.102124\ttrain-error:0.093361\n",
      "[448]\ttest-error:0.102124\ttrain-error:0.093361\n",
      "[449]\ttest-error:0.102124\ttrain-error:0.093323\n",
      "[450]\ttest-error:0.102124\ttrain-error:0.093361\n",
      "[451]\ttest-error:0.102124\ttrain-error:0.093399\n",
      "[452]\ttest-error:0.101973\ttrain-error:0.093399\n",
      "[453]\ttest-error:0.101973\ttrain-error:0.093399\n",
      "[454]\ttest-error:0.101821\ttrain-error:0.093361\n",
      "[455]\ttest-error:0.101821\ttrain-error:0.093475\n",
      "[456]\ttest-error:0.101821\ttrain-error:0.093323\n",
      "[457]\ttest-error:0.101973\ttrain-error:0.093285\n",
      "[458]\ttest-error:0.101973\ttrain-error:0.093247\n",
      "[459]\ttest-error:0.101973\ttrain-error:0.093247\n",
      "[460]\ttest-error:0.101973\ttrain-error:0.093247\n",
      "[461]\ttest-error:0.101973\ttrain-error:0.093171\n",
      "[462]\ttest-error:0.101973\ttrain-error:0.093171\n",
      "[463]\ttest-error:0.102124\ttrain-error:0.093209\n",
      "[464]\ttest-error:0.101973\ttrain-error:0.093171\n",
      "[465]\ttest-error:0.101973\ttrain-error:0.093247\n",
      "[466]\ttest-error:0.101973\ttrain-error:0.093247\n",
      "[467]\ttest-error:0.101973\ttrain-error:0.093247\n",
      "[468]\ttest-error:0.101973\ttrain-error:0.093247\n",
      "[469]\ttest-error:0.101821\ttrain-error:0.093209\n",
      "[470]\ttest-error:0.101821\ttrain-error:0.093209\n",
      "[471]\ttest-error:0.101821\ttrain-error:0.093209\n",
      "[472]\ttest-error:0.101821\ttrain-error:0.093209\n",
      "[473]\ttest-error:0.101821\ttrain-error:0.093209\n",
      "[474]\ttest-error:0.101821\ttrain-error:0.093209\n",
      "[475]\ttest-error:0.101821\ttrain-error:0.093209\n",
      "[476]\ttest-error:0.101821\ttrain-error:0.093247\n",
      "[477]\ttest-error:0.101821\ttrain-error:0.093209\n",
      "[478]\ttest-error:0.101821\ttrain-error:0.093171\n",
      "[479]\ttest-error:0.101821\ttrain-error:0.093096\n",
      "[480]\ttest-error:0.101821\ttrain-error:0.09302\n",
      "[481]\ttest-error:0.101821\ttrain-error:0.093096\n",
      "[482]\ttest-error:0.101821\ttrain-error:0.092868\n",
      "[483]\ttest-error:0.101973\ttrain-error:0.092982\n",
      "[484]\ttest-error:0.101973\ttrain-error:0.092982\n",
      "[485]\ttest-error:0.101821\ttrain-error:0.093096\n",
      "[486]\ttest-error:0.101973\ttrain-error:0.092982\n",
      "[487]\ttest-error:0.101821\ttrain-error:0.09302\n",
      "[488]\ttest-error:0.101821\ttrain-error:0.09302\n",
      "[489]\ttest-error:0.101821\ttrain-error:0.093058\n",
      "[490]\ttest-error:0.101821\ttrain-error:0.093058\n",
      "[491]\ttest-error:0.101669\ttrain-error:0.092944\n",
      "[492]\ttest-error:0.101669\ttrain-error:0.092868\n",
      "[493]\ttest-error:0.101669\ttrain-error:0.092906\n",
      "[494]\ttest-error:0.101669\ttrain-error:0.09283\n",
      "[495]\ttest-error:0.101669\ttrain-error:0.092868\n",
      "[496]\ttest-error:0.101821\ttrain-error:0.092906\n",
      "[497]\ttest-error:0.101973\ttrain-error:0.092944\n",
      "[498]\ttest-error:0.101973\ttrain-error:0.092944\n",
      "[499]\ttest-error:0.101973\ttrain-error:0.092944\n",
      "[500]\ttest-error:0.101973\ttrain-error:0.092868\n",
      "[501]\ttest-error:0.101973\ttrain-error:0.092906\n",
      "[502]\ttest-error:0.101973\ttrain-error:0.092906\n",
      "[503]\ttest-error:0.101973\ttrain-error:0.092906\n",
      "[504]\ttest-error:0.101973\ttrain-error:0.092906\n",
      "[505]\ttest-error:0.101973\ttrain-error:0.092868\n",
      "[506]\ttest-error:0.101973\ttrain-error:0.092944\n",
      "[507]\ttest-error:0.101973\ttrain-error:0.092982\n",
      "[508]\ttest-error:0.101973\ttrain-error:0.092868\n",
      "[509]\ttest-error:0.101973\ttrain-error:0.092868\n",
      "[510]\ttest-error:0.101973\ttrain-error:0.092868\n",
      "[511]\ttest-error:0.101973\ttrain-error:0.092868\n",
      "[512]\ttest-error:0.101973\ttrain-error:0.092868\n",
      "[513]\ttest-error:0.101973\ttrain-error:0.092868\n",
      "[514]\ttest-error:0.101973\ttrain-error:0.092944\n",
      "[515]\ttest-error:0.101973\ttrain-error:0.092944\n",
      "[516]\ttest-error:0.101973\ttrain-error:0.092944\n",
      "[517]\ttest-error:0.101973\ttrain-error:0.092944\n",
      "[518]\ttest-error:0.101973\ttrain-error:0.092944\n",
      "[519]\ttest-error:0.101973\ttrain-error:0.092868\n",
      "[520]\ttest-error:0.101973\ttrain-error:0.092868\n",
      "[521]\ttest-error:0.101973\ttrain-error:0.092868\n",
      "[522]\ttest-error:0.101973\ttrain-error:0.09283\n",
      "[523]\ttest-error:0.101821\ttrain-error:0.09283\n",
      "[524]\ttest-error:0.101821\ttrain-error:0.09283\n",
      "[525]\ttest-error:0.102124\ttrain-error:0.092792\n",
      "[526]\ttest-error:0.102124\ttrain-error:0.092792\n",
      "[527]\ttest-error:0.102124\ttrain-error:0.092792\n",
      "[528]\ttest-error:0.102124\ttrain-error:0.092754\n",
      "[529]\ttest-error:0.102124\ttrain-error:0.092754\n",
      "[530]\ttest-error:0.102124\ttrain-error:0.092754\n"
     ]
    },
    {
     "name": "stdout",
     "output_type": "stream",
     "text": [
      "[531]\ttest-error:0.102124\ttrain-error:0.092754\n",
      "[532]\ttest-error:0.102124\ttrain-error:0.092754\n",
      "[533]\ttest-error:0.102124\ttrain-error:0.092754\n",
      "[534]\ttest-error:0.101973\ttrain-error:0.092754\n",
      "[535]\ttest-error:0.101973\ttrain-error:0.092792\n",
      "[536]\ttest-error:0.101973\ttrain-error:0.092792\n",
      "[537]\ttest-error:0.101973\ttrain-error:0.092868\n",
      "[538]\ttest-error:0.101973\ttrain-error:0.092868\n",
      "[539]\ttest-error:0.101973\ttrain-error:0.092868\n",
      "[540]\ttest-error:0.101973\ttrain-error:0.092868\n",
      "[541]\ttest-error:0.101973\ttrain-error:0.092868\n",
      "[542]\ttest-error:0.101821\ttrain-error:0.092792\n",
      "[543]\ttest-error:0.101821\ttrain-error:0.092754\n",
      "[544]\ttest-error:0.101973\ttrain-error:0.092716\n",
      "[545]\ttest-error:0.101973\ttrain-error:0.092678\n",
      "[546]\ttest-error:0.101973\ttrain-error:0.092678\n",
      "[547]\ttest-error:0.101973\ttrain-error:0.092754\n",
      "[548]\ttest-error:0.101973\ttrain-error:0.092716\n",
      "[549]\ttest-error:0.101821\ttrain-error:0.092716\n",
      "[550]\ttest-error:0.101821\ttrain-error:0.092716\n",
      "[551]\ttest-error:0.101821\ttrain-error:0.092678\n",
      "[552]\ttest-error:0.101821\ttrain-error:0.092602\n",
      "[553]\ttest-error:0.101821\ttrain-error:0.09264\n",
      "[554]\ttest-error:0.101821\ttrain-error:0.092602\n",
      "[555]\ttest-error:0.101821\ttrain-error:0.09264\n",
      "[556]\ttest-error:0.101821\ttrain-error:0.09264\n",
      "[557]\ttest-error:0.101973\ttrain-error:0.09264\n",
      "[558]\ttest-error:0.101973\ttrain-error:0.092678\n",
      "[559]\ttest-error:0.101973\ttrain-error:0.092678\n",
      "[560]\ttest-error:0.101973\ttrain-error:0.092716\n",
      "[561]\ttest-error:0.101973\ttrain-error:0.092792\n",
      "[562]\ttest-error:0.101973\ttrain-error:0.092792\n",
      "[563]\ttest-error:0.101973\ttrain-error:0.092716\n",
      "[564]\ttest-error:0.101973\ttrain-error:0.092716\n",
      "[565]\ttest-error:0.101973\ttrain-error:0.092716\n",
      "[566]\ttest-error:0.102124\ttrain-error:0.092678\n",
      "[567]\ttest-error:0.102124\ttrain-error:0.09264\n",
      "[568]\ttest-error:0.102124\ttrain-error:0.092527\n",
      "[569]\ttest-error:0.101973\ttrain-error:0.092564\n",
      "[570]\ttest-error:0.101973\ttrain-error:0.092527\n",
      "[571]\ttest-error:0.101973\ttrain-error:0.092527\n",
      "[572]\ttest-error:0.101973\ttrain-error:0.092527\n",
      "[573]\ttest-error:0.101973\ttrain-error:0.092527\n",
      "[574]\ttest-error:0.101973\ttrain-error:0.092375\n",
      "[575]\ttest-error:0.101973\ttrain-error:0.092451\n",
      "[576]\ttest-error:0.101973\ttrain-error:0.092451\n",
      "[577]\ttest-error:0.101973\ttrain-error:0.092527\n",
      "[578]\ttest-error:0.101973\ttrain-error:0.092527\n",
      "[579]\ttest-error:0.101973\ttrain-error:0.092527\n",
      "[580]\ttest-error:0.101973\ttrain-error:0.092451\n",
      "[581]\ttest-error:0.101973\ttrain-error:0.092451\n",
      "[582]\ttest-error:0.101973\ttrain-error:0.092451\n",
      "[583]\ttest-error:0.101973\ttrain-error:0.092451\n",
      "[584]\ttest-error:0.101821\ttrain-error:0.092451\n",
      "[585]\ttest-error:0.101821\ttrain-error:0.092489\n",
      "[586]\ttest-error:0.101821\ttrain-error:0.092489\n",
      "[587]\ttest-error:0.101973\ttrain-error:0.092489\n",
      "[588]\ttest-error:0.101973\ttrain-error:0.092489\n",
      "[589]\ttest-error:0.101973\ttrain-error:0.092527\n",
      "[590]\ttest-error:0.101973\ttrain-error:0.092527\n",
      "[591]\ttest-error:0.101973\ttrain-error:0.092527\n",
      "[592]\ttest-error:0.101973\ttrain-error:0.092527\n",
      "[593]\ttest-error:0.101973\ttrain-error:0.092527\n",
      "[594]\ttest-error:0.102124\ttrain-error:0.092451\n",
      "[595]\ttest-error:0.102124\ttrain-error:0.092451\n",
      "[596]\ttest-error:0.102124\ttrain-error:0.092489\n",
      "[597]\ttest-error:0.102124\ttrain-error:0.092451\n",
      "[598]\ttest-error:0.102124\ttrain-error:0.092451\n",
      "[599]\ttest-error:0.102124\ttrain-error:0.092413\n",
      "[600]\ttest-error:0.102124\ttrain-error:0.092375\n",
      "[601]\ttest-error:0.102124\ttrain-error:0.092375\n",
      "[602]\ttest-error:0.102124\ttrain-error:0.092413\n",
      "[603]\ttest-error:0.102124\ttrain-error:0.092451\n",
      "[604]\ttest-error:0.101973\ttrain-error:0.092527\n",
      "[605]\ttest-error:0.101973\ttrain-error:0.092527\n",
      "[606]\ttest-error:0.101973\ttrain-error:0.092527\n",
      "[607]\ttest-error:0.101973\ttrain-error:0.092451\n",
      "[608]\ttest-error:0.101973\ttrain-error:0.092451\n",
      "[609]\ttest-error:0.102124\ttrain-error:0.092451\n",
      "[610]\ttest-error:0.101821\ttrain-error:0.092489\n",
      "[611]\ttest-error:0.101821\ttrain-error:0.092527\n",
      "[612]\ttest-error:0.101821\ttrain-error:0.092413\n",
      "[613]\ttest-error:0.101821\ttrain-error:0.092375\n",
      "[614]\ttest-error:0.101821\ttrain-error:0.092375\n",
      "[615]\ttest-error:0.101821\ttrain-error:0.092375\n",
      "[616]\ttest-error:0.101821\ttrain-error:0.092413\n",
      "[617]\ttest-error:0.101821\ttrain-error:0.092375\n",
      "[618]\ttest-error:0.101821\ttrain-error:0.092337\n",
      "[619]\ttest-error:0.101821\ttrain-error:0.092261\n",
      "[620]\ttest-error:0.101821\ttrain-error:0.092299\n",
      "[621]\ttest-error:0.101821\ttrain-error:0.092299\n",
      "[622]\ttest-error:0.101821\ttrain-error:0.092299\n",
      "[623]\ttest-error:0.101973\ttrain-error:0.092299\n",
      "[624]\ttest-error:0.101973\ttrain-error:0.092337\n",
      "[625]\ttest-error:0.101973\ttrain-error:0.092261\n",
      "[626]\ttest-error:0.101973\ttrain-error:0.092147\n",
      "[627]\ttest-error:0.101973\ttrain-error:0.092223\n",
      "[628]\ttest-error:0.101973\ttrain-error:0.092299\n",
      "[629]\ttest-error:0.102124\ttrain-error:0.092299\n",
      "[630]\ttest-error:0.102124\ttrain-error:0.092299\n",
      "[631]\ttest-error:0.102124\ttrain-error:0.092261\n",
      "[632]\ttest-error:0.102124\ttrain-error:0.092147\n",
      "[633]\ttest-error:0.102124\ttrain-error:0.092147\n",
      "[634]\ttest-error:0.102124\ttrain-error:0.092223\n",
      "[635]\ttest-error:0.102124\ttrain-error:0.092223\n",
      "[636]\ttest-error:0.102276\ttrain-error:0.092223\n",
      "[637]\ttest-error:0.102276\ttrain-error:0.092147\n",
      "[638]\ttest-error:0.102276\ttrain-error:0.092033\n",
      "[639]\ttest-error:0.102276\ttrain-error:0.092071\n",
      "[640]\ttest-error:0.102124\ttrain-error:0.092109\n",
      "[641]\ttest-error:0.102124\ttrain-error:0.092033\n",
      "[642]\ttest-error:0.102124\ttrain-error:0.092071\n",
      "[643]\ttest-error:0.102124\ttrain-error:0.091958\n",
      "[644]\ttest-error:0.102124\ttrain-error:0.091958\n",
      "[645]\ttest-error:0.102124\ttrain-error:0.091995\n",
      "[646]\ttest-error:0.102124\ttrain-error:0.09192\n",
      "[647]\ttest-error:0.102124\ttrain-error:0.091844\n",
      "[648]\ttest-error:0.102124\ttrain-error:0.091844\n",
      "[649]\ttest-error:0.102276\ttrain-error:0.091882\n",
      "[650]\ttest-error:0.102124\ttrain-error:0.09192\n",
      "[651]\ttest-error:0.102124\ttrain-error:0.09192\n",
      "[652]\ttest-error:0.102276\ttrain-error:0.091882\n",
      "[653]\ttest-error:0.102124\ttrain-error:0.091882\n",
      "[654]\ttest-error:0.102276\ttrain-error:0.091882\n",
      "[655]\ttest-error:0.102276\ttrain-error:0.091806\n",
      "[656]\ttest-error:0.102276\ttrain-error:0.091806\n",
      "[657]\ttest-error:0.102276\ttrain-error:0.091806\n",
      "[658]\ttest-error:0.102276\ttrain-error:0.091844\n",
      "[659]\ttest-error:0.102276\ttrain-error:0.091806\n",
      "[660]\ttest-error:0.102276\ttrain-error:0.091844\n",
      "[661]\ttest-error:0.102276\ttrain-error:0.091844\n",
      "[662]\ttest-error:0.102276\ttrain-error:0.091844\n",
      "[663]\ttest-error:0.102428\ttrain-error:0.091844\n",
      "[664]\ttest-error:0.102276\ttrain-error:0.091844\n",
      "[665]\ttest-error:0.102276\ttrain-error:0.091844\n",
      "[666]\ttest-error:0.102276\ttrain-error:0.091844\n",
      "[667]\ttest-error:0.102428\ttrain-error:0.09192\n",
      "[668]\ttest-error:0.102428\ttrain-error:0.091958\n",
      "[669]\ttest-error:0.102428\ttrain-error:0.091995\n",
      "[670]\ttest-error:0.102428\ttrain-error:0.091995\n",
      "[671]\ttest-error:0.102428\ttrain-error:0.091995\n",
      "[672]\ttest-error:0.102428\ttrain-error:0.092033\n",
      "[673]\ttest-error:0.102428\ttrain-error:0.091995\n",
      "[674]\ttest-error:0.102428\ttrain-error:0.091995\n",
      "[675]\ttest-error:0.102428\ttrain-error:0.091995\n",
      "[676]\ttest-error:0.102428\ttrain-error:0.091995\n",
      "[677]\ttest-error:0.102428\ttrain-error:0.091958\n",
      "[678]\ttest-error:0.102428\ttrain-error:0.09192\n",
      "[679]\ttest-error:0.102276\ttrain-error:0.091882\n",
      "[680]\ttest-error:0.102276\ttrain-error:0.091882\n",
      "[681]\ttest-error:0.102276\ttrain-error:0.091882\n",
      "[682]\ttest-error:0.102428\ttrain-error:0.09192\n",
      "[683]\ttest-error:0.102428\ttrain-error:0.09192\n",
      "[684]\ttest-error:0.102428\ttrain-error:0.09192\n",
      "[685]\ttest-error:0.102428\ttrain-error:0.09192\n",
      "[686]\ttest-error:0.102428\ttrain-error:0.09192\n",
      "[687]\ttest-error:0.102276\ttrain-error:0.091882\n",
      "[688]\ttest-error:0.102428\ttrain-error:0.091882\n",
      "[689]\ttest-error:0.102276\ttrain-error:0.091806\n",
      "[690]\ttest-error:0.102276\ttrain-error:0.091806\n",
      "[691]\ttest-error:0.102276\ttrain-error:0.091806\n",
      "[692]\ttest-error:0.102428\ttrain-error:0.091844\n",
      "[693]\ttest-error:0.102428\ttrain-error:0.091806\n",
      "[694]\ttest-error:0.102276\ttrain-error:0.091654\n",
      "[695]\ttest-error:0.102276\ttrain-error:0.091654\n",
      "[696]\ttest-error:0.102276\ttrain-error:0.091692\n",
      "[697]\ttest-error:0.102276\ttrain-error:0.091654\n",
      "[698]\ttest-error:0.102276\ttrain-error:0.091654\n",
      "[699]\ttest-error:0.102276\ttrain-error:0.091616\n",
      "[700]\ttest-error:0.102276\ttrain-error:0.091654\n",
      "[701]\ttest-error:0.102276\ttrain-error:0.091654\n",
      "[702]\ttest-error:0.102276\ttrain-error:0.091616\n",
      "[703]\ttest-error:0.102276\ttrain-error:0.09154\n",
      "[704]\ttest-error:0.102276\ttrain-error:0.091502\n",
      "[705]\ttest-error:0.102428\ttrain-error:0.091502\n"
     ]
    },
    {
     "name": "stdout",
     "output_type": "stream",
     "text": [
      "[706]\ttest-error:0.102428\ttrain-error:0.091502\n",
      "[707]\ttest-error:0.102428\ttrain-error:0.09154\n",
      "[708]\ttest-error:0.102428\ttrain-error:0.09154\n",
      "[709]\ttest-error:0.102276\ttrain-error:0.09154\n",
      "[710]\ttest-error:0.102276\ttrain-error:0.09154\n",
      "[711]\ttest-error:0.102276\ttrain-error:0.091502\n",
      "[712]\ttest-error:0.102276\ttrain-error:0.091578\n",
      "[713]\ttest-error:0.102276\ttrain-error:0.09154\n",
      "[714]\ttest-error:0.102276\ttrain-error:0.09154\n",
      "[715]\ttest-error:0.102276\ttrain-error:0.091502\n",
      "[716]\ttest-error:0.102428\ttrain-error:0.091464\n",
      "[717]\ttest-error:0.102428\ttrain-error:0.091502\n",
      "[718]\ttest-error:0.10258\ttrain-error:0.091502\n",
      "[719]\ttest-error:0.10258\ttrain-error:0.091464\n",
      "[720]\ttest-error:0.10258\ttrain-error:0.091502\n",
      "[721]\ttest-error:0.10258\ttrain-error:0.091464\n",
      "[722]\ttest-error:0.10258\ttrain-error:0.091502\n",
      "[723]\ttest-error:0.102428\ttrain-error:0.091502\n",
      "[724]\ttest-error:0.10258\ttrain-error:0.091502\n",
      "[725]\ttest-error:0.10258\ttrain-error:0.091464\n",
      "[726]\ttest-error:0.10258\ttrain-error:0.091464\n",
      "[727]\ttest-error:0.10258\ttrain-error:0.091464\n",
      "[728]\ttest-error:0.10258\ttrain-error:0.091502\n",
      "[729]\ttest-error:0.10258\ttrain-error:0.091464\n",
      "[730]\ttest-error:0.10258\ttrain-error:0.091426\n",
      "[731]\ttest-error:0.10258\ttrain-error:0.091464\n",
      "[732]\ttest-error:0.102428\ttrain-error:0.091502\n",
      "[733]\ttest-error:0.102428\ttrain-error:0.091464\n",
      "[734]\ttest-error:0.102428\ttrain-error:0.091388\n",
      "[735]\ttest-error:0.102428\ttrain-error:0.091313\n",
      "[736]\ttest-error:0.102428\ttrain-error:0.091351\n",
      "[737]\ttest-error:0.102428\ttrain-error:0.091351\n",
      "[738]\ttest-error:0.102428\ttrain-error:0.091351\n",
      "[739]\ttest-error:0.102428\ttrain-error:0.091351\n",
      "[740]\ttest-error:0.102428\ttrain-error:0.091313\n",
      "[741]\ttest-error:0.102428\ttrain-error:0.091313\n",
      "[742]\ttest-error:0.102428\ttrain-error:0.091275\n",
      "[743]\ttest-error:0.102428\ttrain-error:0.091275\n",
      "[744]\ttest-error:0.102428\ttrain-error:0.091313\n",
      "[745]\ttest-error:0.102428\ttrain-error:0.091313\n",
      "[746]\ttest-error:0.102428\ttrain-error:0.091313\n",
      "[747]\ttest-error:0.102276\ttrain-error:0.091275\n",
      "[748]\ttest-error:0.102276\ttrain-error:0.091313\n",
      "[749]\ttest-error:0.102276\ttrain-error:0.091313\n",
      "[750]\ttest-error:0.102276\ttrain-error:0.091275\n",
      "[751]\ttest-error:0.102276\ttrain-error:0.091237\n",
      "[752]\ttest-error:0.102276\ttrain-error:0.091237\n",
      "[753]\ttest-error:0.102124\ttrain-error:0.091275\n",
      "[754]\ttest-error:0.102124\ttrain-error:0.091237\n",
      "[755]\ttest-error:0.102124\ttrain-error:0.091237\n",
      "[756]\ttest-error:0.102124\ttrain-error:0.091237\n",
      "[757]\ttest-error:0.102124\ttrain-error:0.091199\n",
      "[758]\ttest-error:0.102124\ttrain-error:0.091199\n",
      "[759]\ttest-error:0.102124\ttrain-error:0.091199\n",
      "[760]\ttest-error:0.102124\ttrain-error:0.091199\n",
      "[761]\ttest-error:0.102124\ttrain-error:0.091123\n",
      "[762]\ttest-error:0.102124\ttrain-error:0.091199\n",
      "[763]\ttest-error:0.102276\ttrain-error:0.091199\n",
      "[764]\ttest-error:0.102276\ttrain-error:0.091161\n",
      "[765]\ttest-error:0.102276\ttrain-error:0.091161\n",
      "[766]\ttest-error:0.102276\ttrain-error:0.091161\n",
      "[767]\ttest-error:0.102276\ttrain-error:0.091085\n",
      "[768]\ttest-error:0.102276\ttrain-error:0.090971\n",
      "[769]\ttest-error:0.102276\ttrain-error:0.090933\n",
      "[770]\ttest-error:0.102276\ttrain-error:0.090895\n",
      "[771]\ttest-error:0.102124\ttrain-error:0.090857\n",
      "[772]\ttest-error:0.101973\ttrain-error:0.090819\n",
      "[773]\ttest-error:0.101973\ttrain-error:0.090819\n",
      "[774]\ttest-error:0.101973\ttrain-error:0.090819\n",
      "[775]\ttest-error:0.101973\ttrain-error:0.090781\n",
      "[776]\ttest-error:0.101973\ttrain-error:0.090781\n",
      "[777]\ttest-error:0.101973\ttrain-error:0.090781\n",
      "[778]\ttest-error:0.101973\ttrain-error:0.090781\n",
      "[779]\ttest-error:0.101973\ttrain-error:0.090781\n",
      "[780]\ttest-error:0.101973\ttrain-error:0.090781\n",
      "[781]\ttest-error:0.101973\ttrain-error:0.090819\n",
      "[782]\ttest-error:0.101973\ttrain-error:0.090819\n",
      "[783]\ttest-error:0.101973\ttrain-error:0.090819\n",
      "[784]\ttest-error:0.101973\ttrain-error:0.090781\n",
      "[785]\ttest-error:0.102124\ttrain-error:0.090781\n",
      "[786]\ttest-error:0.102124\ttrain-error:0.090744\n",
      "[787]\ttest-error:0.102124\ttrain-error:0.090744\n",
      "[788]\ttest-error:0.102124\ttrain-error:0.090744\n",
      "[789]\ttest-error:0.102124\ttrain-error:0.090706\n",
      "[790]\ttest-error:0.102124\ttrain-error:0.090706\n",
      "[791]\ttest-error:0.102124\ttrain-error:0.090744\n",
      "[792]\ttest-error:0.101973\ttrain-error:0.090744\n",
      "[793]\ttest-error:0.101973\ttrain-error:0.090744\n",
      "[794]\ttest-error:0.101973\ttrain-error:0.090744\n",
      "[795]\ttest-error:0.101973\ttrain-error:0.090781\n",
      "[796]\ttest-error:0.101973\ttrain-error:0.090781\n",
      "[797]\ttest-error:0.101821\ttrain-error:0.090744\n",
      "[798]\ttest-error:0.101821\ttrain-error:0.090781\n",
      "[799]\ttest-error:0.101821\ttrain-error:0.090819\n",
      "[800]\ttest-error:0.101821\ttrain-error:0.090819\n",
      "[801]\ttest-error:0.101821\ttrain-error:0.090857\n",
      "[802]\ttest-error:0.101821\ttrain-error:0.090857\n",
      "[803]\ttest-error:0.101821\ttrain-error:0.090895\n",
      "[804]\ttest-error:0.101821\ttrain-error:0.090857\n",
      "[805]\ttest-error:0.101821\ttrain-error:0.090819\n",
      "[806]\ttest-error:0.101821\ttrain-error:0.090857\n",
      "[807]\ttest-error:0.101821\ttrain-error:0.090857\n",
      "[808]\ttest-error:0.101973\ttrain-error:0.090895\n",
      "[809]\ttest-error:0.101973\ttrain-error:0.090895\n",
      "[810]\ttest-error:0.101973\ttrain-error:0.090857\n",
      "[811]\ttest-error:0.101973\ttrain-error:0.090819\n",
      "[812]\ttest-error:0.101973\ttrain-error:0.090819\n",
      "[813]\ttest-error:0.101973\ttrain-error:0.090819\n",
      "[814]\ttest-error:0.101973\ttrain-error:0.090744\n",
      "[815]\ttest-error:0.101973\ttrain-error:0.090744\n",
      "[816]\ttest-error:0.101973\ttrain-error:0.090744\n",
      "[817]\ttest-error:0.101821\ttrain-error:0.090744\n",
      "[818]\ttest-error:0.101821\ttrain-error:0.090781\n",
      "[819]\ttest-error:0.101821\ttrain-error:0.090706\n",
      "[820]\ttest-error:0.101821\ttrain-error:0.090706\n",
      "[821]\ttest-error:0.101821\ttrain-error:0.090706\n",
      "[822]\ttest-error:0.101821\ttrain-error:0.09063\n",
      "[823]\ttest-error:0.101821\ttrain-error:0.090554\n",
      "[824]\ttest-error:0.101821\ttrain-error:0.090478\n",
      "[825]\ttest-error:0.101821\ttrain-error:0.090478\n",
      "[826]\ttest-error:0.101821\ttrain-error:0.09044\n",
      "[827]\ttest-error:0.101821\ttrain-error:0.090478\n",
      "[828]\ttest-error:0.101821\ttrain-error:0.090402\n",
      "[829]\ttest-error:0.101821\ttrain-error:0.090402\n",
      "[830]\ttest-error:0.101821\ttrain-error:0.090402\n",
      "[831]\ttest-error:0.101821\ttrain-error:0.09044\n",
      "[832]\ttest-error:0.101821\ttrain-error:0.09044\n",
      "[833]\ttest-error:0.101821\ttrain-error:0.09044\n",
      "[834]\ttest-error:0.101821\ttrain-error:0.09044\n",
      "[835]\ttest-error:0.101821\ttrain-error:0.09044\n",
      "[836]\ttest-error:0.101669\ttrain-error:0.09044\n",
      "[837]\ttest-error:0.101669\ttrain-error:0.09044\n",
      "[838]\ttest-error:0.101669\ttrain-error:0.09044\n",
      "[839]\ttest-error:0.101669\ttrain-error:0.090516\n",
      "[840]\ttest-error:0.101821\ttrain-error:0.09044\n",
      "[841]\ttest-error:0.101669\ttrain-error:0.090478\n",
      "[842]\ttest-error:0.101669\ttrain-error:0.090478\n",
      "[843]\ttest-error:0.101821\ttrain-error:0.090516\n",
      "[844]\ttest-error:0.101821\ttrain-error:0.090478\n",
      "[845]\ttest-error:0.101821\ttrain-error:0.09044\n",
      "[846]\ttest-error:0.101821\ttrain-error:0.09044\n",
      "[847]\ttest-error:0.101821\ttrain-error:0.090402\n",
      "[848]\ttest-error:0.101821\ttrain-error:0.09044\n",
      "[849]\ttest-error:0.101821\ttrain-error:0.090478\n",
      "[850]\ttest-error:0.101821\ttrain-error:0.09044\n",
      "[851]\ttest-error:0.101821\ttrain-error:0.090402\n",
      "[852]\ttest-error:0.101973\ttrain-error:0.090402\n",
      "[853]\ttest-error:0.101973\ttrain-error:0.09044\n",
      "[854]\ttest-error:0.101973\ttrain-error:0.090516\n",
      "[855]\ttest-error:0.101973\ttrain-error:0.090516\n",
      "[856]\ttest-error:0.101821\ttrain-error:0.090516\n",
      "[857]\ttest-error:0.101821\ttrain-error:0.09044\n",
      "[858]\ttest-error:0.101821\ttrain-error:0.090516\n",
      "[859]\ttest-error:0.101821\ttrain-error:0.090478\n",
      "[860]\ttest-error:0.101821\ttrain-error:0.090592\n",
      "[861]\ttest-error:0.101821\ttrain-error:0.090592\n",
      "[862]\ttest-error:0.101973\ttrain-error:0.090592\n",
      "[863]\ttest-error:0.101973\ttrain-error:0.090592\n",
      "[864]\ttest-error:0.101973\ttrain-error:0.090592\n",
      "[865]\ttest-error:0.101973\ttrain-error:0.090592\n",
      "[866]\ttest-error:0.101973\ttrain-error:0.090592\n",
      "[867]\ttest-error:0.101973\ttrain-error:0.090592\n",
      "[868]\ttest-error:0.101973\ttrain-error:0.090554\n",
      "[869]\ttest-error:0.101973\ttrain-error:0.090516\n",
      "[870]\ttest-error:0.101821\ttrain-error:0.090516\n",
      "[871]\ttest-error:0.101821\ttrain-error:0.090402\n",
      "[872]\ttest-error:0.101821\ttrain-error:0.090364\n",
      "[873]\ttest-error:0.101821\ttrain-error:0.090326\n",
      "[874]\ttest-error:0.101821\ttrain-error:0.090326\n",
      "[875]\ttest-error:0.101821\ttrain-error:0.09025\n",
      "[876]\ttest-error:0.101821\ttrain-error:0.09025\n",
      "[877]\ttest-error:0.101821\ttrain-error:0.090288\n",
      "[878]\ttest-error:0.101821\ttrain-error:0.090175\n",
      "[879]\ttest-error:0.101821\ttrain-error:0.090212\n",
      "[880]\ttest-error:0.101821\ttrain-error:0.090137\n",
      "[881]\ttest-error:0.101821\ttrain-error:0.090137\n"
     ]
    },
    {
     "name": "stdout",
     "output_type": "stream",
     "text": [
      "[882]\ttest-error:0.101821\ttrain-error:0.090137\n",
      "[883]\ttest-error:0.101973\ttrain-error:0.090061\n",
      "[884]\ttest-error:0.101973\ttrain-error:0.090061\n",
      "[885]\ttest-error:0.101973\ttrain-error:0.090061\n",
      "[886]\ttest-error:0.101973\ttrain-error:0.090023\n",
      "[887]\ttest-error:0.101973\ttrain-error:0.090023\n",
      "[888]\ttest-error:0.101973\ttrain-error:0.089985\n",
      "[889]\ttest-error:0.101973\ttrain-error:0.089947\n",
      "[890]\ttest-error:0.101973\ttrain-error:0.089947\n",
      "[891]\ttest-error:0.101973\ttrain-error:0.090023\n",
      "[892]\ttest-error:0.101821\ttrain-error:0.089947\n",
      "[893]\ttest-error:0.101821\ttrain-error:0.089985\n",
      "[894]\ttest-error:0.101821\ttrain-error:0.089985\n",
      "[895]\ttest-error:0.101821\ttrain-error:0.089909\n",
      "[896]\ttest-error:0.101821\ttrain-error:0.089947\n",
      "[897]\ttest-error:0.101669\ttrain-error:0.089947\n",
      "[898]\ttest-error:0.101821\ttrain-error:0.089871\n",
      "[899]\ttest-error:0.101821\ttrain-error:0.089871\n",
      "[900]\ttest-error:0.101821\ttrain-error:0.089871\n",
      "[901]\ttest-error:0.101821\ttrain-error:0.089833\n",
      "[902]\ttest-error:0.101669\ttrain-error:0.089871\n",
      "[903]\ttest-error:0.101669\ttrain-error:0.089871\n",
      "[904]\ttest-error:0.101669\ttrain-error:0.089871\n",
      "[905]\ttest-error:0.101669\ttrain-error:0.089909\n",
      "[906]\ttest-error:0.101669\ttrain-error:0.089909\n",
      "[907]\ttest-error:0.101669\ttrain-error:0.089909\n",
      "[908]\ttest-error:0.101669\ttrain-error:0.089909\n",
      "[909]\ttest-error:0.101517\ttrain-error:0.089909\n",
      "[910]\ttest-error:0.101517\ttrain-error:0.089871\n",
      "[911]\ttest-error:0.101517\ttrain-error:0.089871\n",
      "[912]\ttest-error:0.101517\ttrain-error:0.089833\n",
      "[913]\ttest-error:0.101517\ttrain-error:0.089795\n",
      "[914]\ttest-error:0.101517\ttrain-error:0.089795\n",
      "[915]\ttest-error:0.101669\ttrain-error:0.089757\n",
      "[916]\ttest-error:0.101669\ttrain-error:0.089681\n",
      "[917]\ttest-error:0.101669\ttrain-error:0.089643\n",
      "[918]\ttest-error:0.101669\ttrain-error:0.089643\n",
      "[919]\ttest-error:0.101517\ttrain-error:0.089643\n",
      "[920]\ttest-error:0.101517\ttrain-error:0.089643\n",
      "[921]\ttest-error:0.101366\ttrain-error:0.089681\n",
      "[922]\ttest-error:0.101517\ttrain-error:0.089681\n",
      "[923]\ttest-error:0.101366\ttrain-error:0.089643\n",
      "[924]\ttest-error:0.101366\ttrain-error:0.089643\n",
      "[925]\ttest-error:0.101366\ttrain-error:0.089643\n",
      "[926]\ttest-error:0.101366\ttrain-error:0.089568\n",
      "[927]\ttest-error:0.101517\ttrain-error:0.08953\n",
      "[928]\ttest-error:0.101517\ttrain-error:0.08953\n",
      "[929]\ttest-error:0.101517\ttrain-error:0.089492\n",
      "[930]\ttest-error:0.101517\ttrain-error:0.089492\n",
      "[931]\ttest-error:0.101517\ttrain-error:0.089492\n",
      "[932]\ttest-error:0.101517\ttrain-error:0.089492\n",
      "[933]\ttest-error:0.101517\ttrain-error:0.089492\n",
      "[934]\ttest-error:0.101517\ttrain-error:0.089492\n",
      "[935]\ttest-error:0.101062\ttrain-error:0.089454\n",
      "[936]\ttest-error:0.101062\ttrain-error:0.089454\n",
      "[937]\ttest-error:0.101062\ttrain-error:0.089416\n",
      "[938]\ttest-error:0.101062\ttrain-error:0.089416\n",
      "[939]\ttest-error:0.101062\ttrain-error:0.089492\n",
      "[940]\ttest-error:0.101062\ttrain-error:0.089454\n",
      "[941]\ttest-error:0.101062\ttrain-error:0.089454\n",
      "[942]\ttest-error:0.101062\ttrain-error:0.089454\n",
      "[943]\ttest-error:0.101062\ttrain-error:0.089378\n",
      "[944]\ttest-error:0.101062\ttrain-error:0.089378\n",
      "[945]\ttest-error:0.101062\ttrain-error:0.089378\n",
      "[946]\ttest-error:0.101062\ttrain-error:0.08934\n",
      "[947]\ttest-error:0.101062\ttrain-error:0.08934\n",
      "[948]\ttest-error:0.101062\ttrain-error:0.08934\n",
      "[949]\ttest-error:0.101062\ttrain-error:0.08934\n",
      "[950]\ttest-error:0.101062\ttrain-error:0.08934\n",
      "[951]\ttest-error:0.101062\ttrain-error:0.08934\n",
      "[952]\ttest-error:0.101062\ttrain-error:0.08934\n",
      "[953]\ttest-error:0.101062\ttrain-error:0.089302\n",
      "[954]\ttest-error:0.101062\ttrain-error:0.089302\n",
      "[955]\ttest-error:0.101062\ttrain-error:0.089302\n",
      "[956]\ttest-error:0.101062\ttrain-error:0.08934\n",
      "[957]\ttest-error:0.101062\ttrain-error:0.08934\n",
      "[958]\ttest-error:0.101062\ttrain-error:0.08934\n",
      "[959]\ttest-error:0.101214\ttrain-error:0.08934\n",
      "[960]\ttest-error:0.101214\ttrain-error:0.08934\n",
      "[961]\ttest-error:0.101214\ttrain-error:0.089264\n",
      "[962]\ttest-error:0.101214\ttrain-error:0.089264\n",
      "[963]\ttest-error:0.101214\ttrain-error:0.089302\n",
      "[964]\ttest-error:0.101214\ttrain-error:0.08915\n",
      "[965]\ttest-error:0.101214\ttrain-error:0.08915\n",
      "[966]\ttest-error:0.101214\ttrain-error:0.089112\n",
      "[967]\ttest-error:0.101214\ttrain-error:0.089036\n",
      "[968]\ttest-error:0.101214\ttrain-error:0.089112\n",
      "[969]\ttest-error:0.101214\ttrain-error:0.088998\n",
      "[970]\ttest-error:0.101366\ttrain-error:0.088998\n",
      "[971]\ttest-error:0.101366\ttrain-error:0.088998\n",
      "[972]\ttest-error:0.101366\ttrain-error:0.088998\n",
      "[973]\ttest-error:0.101366\ttrain-error:0.088998\n",
      "[974]\ttest-error:0.101366\ttrain-error:0.088998\n",
      "[975]\ttest-error:0.101214\ttrain-error:0.088998\n",
      "[976]\ttest-error:0.101214\ttrain-error:0.088998\n",
      "[977]\ttest-error:0.101366\ttrain-error:0.088998\n",
      "[978]\ttest-error:0.101366\ttrain-error:0.088961\n",
      "[979]\ttest-error:0.101366\ttrain-error:0.088998\n",
      "[980]\ttest-error:0.101366\ttrain-error:0.088961\n",
      "[981]\ttest-error:0.101366\ttrain-error:0.088923\n",
      "[982]\ttest-error:0.101366\ttrain-error:0.088923\n",
      "[983]\ttest-error:0.101366\ttrain-error:0.088923\n",
      "[984]\ttest-error:0.101366\ttrain-error:0.088885\n",
      "[985]\ttest-error:0.101366\ttrain-error:0.088885\n",
      "[986]\ttest-error:0.101366\ttrain-error:0.088885\n",
      "[987]\ttest-error:0.101366\ttrain-error:0.088885\n",
      "[988]\ttest-error:0.101366\ttrain-error:0.088885\n",
      "[989]\ttest-error:0.101366\ttrain-error:0.088885\n",
      "[990]\ttest-error:0.101366\ttrain-error:0.088885\n",
      "[991]\ttest-error:0.101366\ttrain-error:0.088809\n",
      "[992]\ttest-error:0.101517\ttrain-error:0.088771\n",
      "[993]\ttest-error:0.101517\ttrain-error:0.088771\n",
      "[994]\ttest-error:0.101669\ttrain-error:0.088771\n",
      "[995]\ttest-error:0.101669\ttrain-error:0.088771\n",
      "[996]\ttest-error:0.101669\ttrain-error:0.088771\n",
      "[997]\ttest-error:0.101669\ttrain-error:0.088771\n",
      "[998]\ttest-error:0.101669\ttrain-error:0.088771\n",
      "[999]\ttest-error:0.101669\ttrain-error:0.088771\n"
     ]
    }
   ],
   "source": [
    "bst = xgb.train(params, dtrain, num_rounds, watchlist)"
   ]
  },
  {
   "cell_type": "code",
   "execution_count": 46,
   "metadata": {},
   "outputs": [],
   "source": [
    "y_test_preds = (bst.predict(dtest) > 0.5).astype('int')"
   ]
  },
  {
   "cell_type": "code",
   "execution_count": 47,
   "metadata": {},
   "outputs": [
    {
     "data": {
      "text/html": [
       "<div>\n",
       "<style scoped>\n",
       "    .dataframe tbody tr th:only-of-type {\n",
       "        vertical-align: middle;\n",
       "    }\n",
       "\n",
       "    .dataframe tbody tr th {\n",
       "        vertical-align: top;\n",
       "    }\n",
       "\n",
       "    .dataframe thead th {\n",
       "        text-align: right;\n",
       "    }\n",
       "</style>\n",
       "<table border=\"1\" class=\"dataframe\">\n",
       "  <thead>\n",
       "    <tr style=\"text-align: right;\">\n",
       "      <th>Predicted</th>\n",
       "      <th>0</th>\n",
       "      <th>1</th>\n",
       "      <th>All</th>\n",
       "    </tr>\n",
       "    <tr>\n",
       "      <th>Actual</th>\n",
       "      <th></th>\n",
       "      <th></th>\n",
       "      <th></th>\n",
       "    </tr>\n",
       "  </thead>\n",
       "  <tbody>\n",
       "    <tr>\n",
       "      <th>0</th>\n",
       "      <td>7173</td>\n",
       "      <td>142</td>\n",
       "      <td>7315</td>\n",
       "    </tr>\n",
       "    <tr>\n",
       "      <th>1</th>\n",
       "      <td>675</td>\n",
       "      <td>248</td>\n",
       "      <td>923</td>\n",
       "    </tr>\n",
       "    <tr>\n",
       "      <th>All</th>\n",
       "      <td>7848</td>\n",
       "      <td>390</td>\n",
       "      <td>8238</td>\n",
       "    </tr>\n",
       "  </tbody>\n",
       "</table>\n",
       "</div>"
      ],
      "text/plain": [
       "Predicted     0    1   All\n",
       "Actual                    \n",
       "0          7173  142  7315\n",
       "1           675  248   923\n",
       "All        7848  390  8238"
      ]
     },
     "execution_count": 47,
     "metadata": {},
     "output_type": "execute_result"
    }
   ],
   "source": [
    "pd.crosstab(\n",
    "    pd.Series(y_test, name='Actual'),\n",
    "    pd.Series(y_test_preds, name='Predicted'),\n",
    "    margins=True\n",
    ")"
   ]
  },
  {
   "cell_type": "code",
   "execution_count": 48,
   "metadata": {},
   "outputs": [],
   "source": [
    "from sklearn.metrics import accuracy_score, precision_score, recall_score"
   ]
  },
  {
   "cell_type": "code",
   "execution_count": 49,
   "metadata": {},
   "outputs": [
    {
     "name": "stdout",
     "output_type": "stream",
     "text": [
      "Accuracy: 0.90\n",
      "Precision: 0.64\n",
      "Recall: 0.27\n"
     ]
    }
   ],
   "source": [
    "print('Accuracy: {0:.2f}'.format(accuracy_score(y_test, y_test_preds)))\n",
    "print('Precision: {0:.2f}'.format(precision_score(y_test, y_test_preds)))\n",
    "print('Recall: {0:.2f}'.format(recall_score(y_test, y_test_preds)))"
   ]
  },
  {
   "cell_type": "code",
   "execution_count": 50,
   "metadata": {},
   "outputs": [],
   "source": [
    "weights = np.zeros(len(y_train))\n",
    "weights[y_train == 0] = 1\n",
    "weights[y_train == 1] = 5"
   ]
  },
  {
   "cell_type": "code",
   "execution_count": 51,
   "metadata": {},
   "outputs": [],
   "source": [
    "dtrain = xgb.DMatrix(X_train, label=y_train, weight=weights) # weights added\n",
    "dtest = xgb.DMatrix(X_test)"
   ]
  },
  {
   "cell_type": "code",
   "execution_count": 52,
   "metadata": {},
   "outputs": [],
   "source": [
    "bst = xgb.train(params, dtrain, num_rounds)\n",
    "y_test_preds = (bst.predict(dtest) > 0.5).astype('int')"
   ]
  },
  {
   "cell_type": "code",
   "execution_count": 53,
   "metadata": {},
   "outputs": [
    {
     "data": {
      "text/html": [
       "<div>\n",
       "<style scoped>\n",
       "    .dataframe tbody tr th:only-of-type {\n",
       "        vertical-align: middle;\n",
       "    }\n",
       "\n",
       "    .dataframe tbody tr th {\n",
       "        vertical-align: top;\n",
       "    }\n",
       "\n",
       "    .dataframe thead th {\n",
       "        text-align: right;\n",
       "    }\n",
       "</style>\n",
       "<table border=\"1\" class=\"dataframe\">\n",
       "  <thead>\n",
       "    <tr style=\"text-align: right;\">\n",
       "      <th>Predicted</th>\n",
       "      <th>0</th>\n",
       "      <th>1</th>\n",
       "      <th>All</th>\n",
       "    </tr>\n",
       "    <tr>\n",
       "      <th>Actual</th>\n",
       "      <th></th>\n",
       "      <th></th>\n",
       "      <th></th>\n",
       "    </tr>\n",
       "  </thead>\n",
       "  <tbody>\n",
       "    <tr>\n",
       "      <th>0</th>\n",
       "      <td>6607</td>\n",
       "      <td>708</td>\n",
       "      <td>7315</td>\n",
       "    </tr>\n",
       "    <tr>\n",
       "      <th>1</th>\n",
       "      <td>357</td>\n",
       "      <td>566</td>\n",
       "      <td>923</td>\n",
       "    </tr>\n",
       "    <tr>\n",
       "      <th>All</th>\n",
       "      <td>6964</td>\n",
       "      <td>1274</td>\n",
       "      <td>8238</td>\n",
       "    </tr>\n",
       "  </tbody>\n",
       "</table>\n",
       "</div>"
      ],
      "text/plain": [
       "Predicted     0     1   All\n",
       "Actual                     \n",
       "0          6607   708  7315\n",
       "1           357   566   923\n",
       "All        6964  1274  8238"
      ]
     },
     "execution_count": 53,
     "metadata": {},
     "output_type": "execute_result"
    }
   ],
   "source": [
    "pd.crosstab(\n",
    "    pd.Series(y_test, name='Actual'),\n",
    "    pd.Series(y_test_preds, name='Predicted'),\n",
    "    margins=True\n",
    ")"
   ]
  },
  {
   "cell_type": "code",
   "execution_count": 54,
   "metadata": {},
   "outputs": [
    {
     "name": "stdout",
     "output_type": "stream",
     "text": [
      "Accuracy: 0.87\n",
      "Precision: 0.44\n",
      "Recall: 0.61\n"
     ]
    }
   ],
   "source": [
    "print('Accuracy: {0:.2f}'.format(accuracy_score(y_test, y_test_preds)))\n",
    "print('Precision: {0:.2f}'.format(precision_score(y_test, y_test_preds)))\n",
    "print('Recall: {0:.2f}'.format(recall_score(y_test, y_test_preds)))"
   ]
  },
  {
   "cell_type": "code",
   "execution_count": null,
   "metadata": {},
   "outputs": [],
   "source": []
  },
  {
   "cell_type": "code",
   "execution_count": null,
   "metadata": {},
   "outputs": [],
   "source": []
  },
  {
   "cell_type": "code",
   "execution_count": null,
   "metadata": {},
   "outputs": [],
   "source": []
  },
  {
   "cell_type": "code",
   "execution_count": null,
   "metadata": {},
   "outputs": [],
   "source": []
  },
  {
   "cell_type": "code",
   "execution_count": 138,
   "metadata": {},
   "outputs": [],
   "source": [
    "params = {\n",
    "    'objective': 'binary:logistic',\n",
    "    'max_depth': 4,\n",
    "    'learning_rate': 0.5,\n",
    "    'silent': 1.0,\n",
    "    'n_estimators': 500\n",
    "}"
   ]
  },
  {
   "cell_type": "code",
   "execution_count": 139,
   "metadata": {},
   "outputs": [],
   "source": [
    "bst = XGBClassifier(**params).fit(X_train, y_train)"
   ]
  },
  {
   "cell_type": "code",
   "execution_count": 140,
   "metadata": {},
   "outputs": [
    {
     "name": "stderr",
     "output_type": "stream",
     "text": [
      "/Users/Bullox/anaconda3/lib/python3.6/site-packages/sklearn/preprocessing/label.py:151: DeprecationWarning:\n",
      "\n",
      "The truth value of an empty array is ambiguous. Returning False, but in future this will result in an error. Use `array.size > 0` to check that an array is not empty.\n",
      "\n"
     ]
    },
    {
     "data": {
      "text/plain": [
       "array([0, 0, 0, ..., 0, 0, 0])"
      ]
     },
     "execution_count": 140,
     "metadata": {},
     "output_type": "execute_result"
    }
   ],
   "source": [
    "preds = bst.predict(X_vali)\n",
    "preds"
   ]
  },
  {
   "cell_type": "code",
   "execution_count": 141,
   "metadata": {},
   "outputs": [
    {
     "name": "stdout",
     "output_type": "stream",
     "text": [
      "Predicted correctly: 5868/6590\n",
      "Error: 0.1096\n"
     ]
    }
   ],
   "source": [
    "correct = 0\n",
    "\n",
    "for i in range(len(preds)):\n",
    "    if (y_vali[i] == preds[i]):\n",
    "        correct += 1\n",
    "        \n",
    "acc = accuracy_score(y_vali, preds)\n",
    "\n",
    "print('Predicted correctly: {0}/{1}'.format(correct, len(preds)))\n",
    "print('Error: {0:.4f}'.format(1-acc))"
   ]
  },
  {
   "cell_type": "code",
   "execution_count": 151,
   "metadata": {},
   "outputs": [
    {
     "data": {
      "text/plain": [
       "(32950, 21)"
      ]
     },
     "execution_count": 151,
     "metadata": {},
     "output_type": "execute_result"
    }
   ],
   "source": [
    "X_train.shape"
   ]
  },
  {
   "cell_type": "code",
   "execution_count": null,
   "metadata": {},
   "outputs": [],
   "source": []
  },
  {
   "cell_type": "code",
   "execution_count": 161,
   "metadata": {},
   "outputs": [],
   "source": [
    "params_grid = {\n",
    "    'max_depth': [1, 2, 3, 4, 5, 6, 7, 8, 9],\n",
    "    'learning_rate': np.linspace(0.001, 0.5, 20),\n",
    "    'gamma': np.linspace(0, 5, 10),\n",
    "    'lambda': np.linspace(0, 2, 10),\n",
    "    'alpha': np.linspace(0,1,5)\n",
    "}"
   ]
  },
  {
   "cell_type": "code",
   "execution_count": 163,
   "metadata": {},
   "outputs": [],
   "source": [
    "params_fixed = {\n",
    "    'objective': 'binary:logistic',\n",
    "    'silent': 1,\n",
    "    'n_estimators': 1000,\n",
    "    'early_stopping_rounds': 30\n",
    "}"
   ]
  },
  {
   "cell_type": "code",
   "execution_count": 164,
   "metadata": {},
   "outputs": [],
   "source": [
    "bst_grid = GridSearchCV(\n",
    "    estimator=XGBClassifier(**params_fixed, seed=23),\n",
    "    param_grid=params_grid,\n",
    "    cv=10,\n",
    "    scoring='accuracy'\n",
    ")"
   ]
  },
  {
   "cell_type": "code",
   "execution_count": 23,
   "metadata": {},
   "outputs": [],
   "source": [
    "import warnings\n",
    "warnings.filterwarnings('ignore')"
   ]
  },
  {
   "cell_type": "code",
   "execution_count": 165,
   "metadata": {
    "scrolled": true
   },
   "outputs": [
    {
     "name": "stderr",
     "output_type": "stream",
     "text": [
      "ERROR:root:Internal Python error in the inspect module.\n",
      "Below is the traceback from this internal error.\n",
      "\n"
     ]
    },
    {
     "name": "stdout",
     "output_type": "stream",
     "text": [
      "Traceback (most recent call last):\n",
      "  File \"/Users/Bullox/anaconda3/lib/python3.6/site-packages/IPython/core/interactiveshell.py\", line 2963, in run_code\n",
      "    exec(code_obj, self.user_global_ns, self.user_ns)\n",
      "  File \"<ipython-input-165-cff31e30b736>\", line 1, in <module>\n",
      "    bst_grid.fit(X_train, y_train)\n",
      "  File \"/Users/Bullox/anaconda3/lib/python3.6/site-packages/sklearn/grid_search.py\", line 838, in fit\n",
      "    return self._fit(X, y, ParameterGrid(self.param_grid))\n",
      "  File \"/Users/Bullox/anaconda3/lib/python3.6/site-packages/sklearn/grid_search.py\", line 574, in _fit\n",
      "    for parameters in parameter_iterable\n",
      "  File \"/Users/Bullox/anaconda3/lib/python3.6/site-packages/sklearn/externals/joblib/parallel.py\", line 779, in __call__\n",
      "    while self.dispatch_one_batch(iterator):\n",
      "  File \"/Users/Bullox/anaconda3/lib/python3.6/site-packages/sklearn/externals/joblib/parallel.py\", line 625, in dispatch_one_batch\n",
      "    self._dispatch(tasks)\n",
      "  File \"/Users/Bullox/anaconda3/lib/python3.6/site-packages/sklearn/externals/joblib/parallel.py\", line 588, in _dispatch\n",
      "    job = self._backend.apply_async(batch, callback=cb)\n",
      "  File \"/Users/Bullox/anaconda3/lib/python3.6/site-packages/sklearn/externals/joblib/_parallel_backends.py\", line 111, in apply_async\n",
      "    result = ImmediateResult(func)\n",
      "  File \"/Users/Bullox/anaconda3/lib/python3.6/site-packages/sklearn/externals/joblib/_parallel_backends.py\", line 332, in __init__\n",
      "    self.results = batch()\n",
      "  File \"/Users/Bullox/anaconda3/lib/python3.6/site-packages/sklearn/externals/joblib/parallel.py\", line 131, in __call__\n",
      "    return [func(*args, **kwargs) for func, args, kwargs in self.items]\n",
      "  File \"/Users/Bullox/anaconda3/lib/python3.6/site-packages/sklearn/externals/joblib/parallel.py\", line 131, in <listcomp>\n",
      "    return [func(*args, **kwargs) for func, args, kwargs in self.items]\n",
      "  File \"/Users/Bullox/anaconda3/lib/python3.6/site-packages/sklearn/cross_validation.py\", line 1675, in _fit_and_score\n",
      "    estimator.fit(X_train, y_train, **fit_params)\n",
      "  File \"/Users/Bullox/anaconda3/lib/python3.6/site-packages/xgboost/sklearn.py\", line 700, in fit\n",
      "    callbacks=callbacks)\n",
      "  File \"/Users/Bullox/anaconda3/lib/python3.6/site-packages/xgboost/training.py\", line 216, in train\n",
      "    xgb_model=xgb_model, callbacks=callbacks)\n",
      "  File \"/Users/Bullox/anaconda3/lib/python3.6/site-packages/xgboost/training.py\", line 74, in _train_internal\n",
      "    bst.update(dtrain, i, obj)\n",
      "  File \"/Users/Bullox/anaconda3/lib/python3.6/site-packages/xgboost/core.py\", line 1045, in update\n",
      "    dtrain.handle))\n",
      "KeyboardInterrupt\n",
      "\n",
      "During handling of the above exception, another exception occurred:\n",
      "\n",
      "Traceback (most recent call last):\n",
      "  File \"/Users/Bullox/anaconda3/lib/python3.6/site-packages/IPython/core/interactiveshell.py\", line 1863, in showtraceback\n",
      "    stb = value._render_traceback_()\n",
      "AttributeError: 'KeyboardInterrupt' object has no attribute '_render_traceback_'\n",
      "\n",
      "During handling of the above exception, another exception occurred:\n",
      "\n",
      "Traceback (most recent call last):\n",
      "  File \"/Users/Bullox/anaconda3/lib/python3.6/site-packages/IPython/core/ultratb.py\", line 1095, in get_records\n",
      "    return _fixed_getinnerframes(etb, number_of_lines_of_context, tb_offset)\n",
      "  File \"/Users/Bullox/anaconda3/lib/python3.6/site-packages/IPython/core/ultratb.py\", line 311, in wrapped\n",
      "    return f(*args, **kwargs)\n",
      "  File \"/Users/Bullox/anaconda3/lib/python3.6/site-packages/IPython/core/ultratb.py\", line 345, in _fixed_getinnerframes\n",
      "    records = fix_frame_records_filenames(inspect.getinnerframes(etb, context))\n",
      "  File \"/Users/Bullox/anaconda3/lib/python3.6/inspect.py\", line 1483, in getinnerframes\n",
      "    frameinfo = (tb.tb_frame,) + getframeinfo(tb, context)\n",
      "  File \"/Users/Bullox/anaconda3/lib/python3.6/inspect.py\", line 1445, in getframeinfo\n",
      "    lines, lnum = findsource(frame)\n",
      "  File \"/Users/Bullox/anaconda3/lib/python3.6/site-packages/IPython/core/ultratb.py\", line 224, in findsource\n",
      "    if pmatch(lines[lnum]):\n",
      "KeyboardInterrupt\n"
     ]
    },
    {
     "ename": "KeyboardInterrupt",
     "evalue": "",
     "output_type": "error",
     "traceback": [
      "\u001b[0;31m---------------------------------------------------------------------------\u001b[0m"
     ]
    }
   ],
   "source": [
    "bst_grid.fit(X_train, y_train)"
   ]
  },
  {
   "cell_type": "code",
   "execution_count": null,
   "metadata": {},
   "outputs": [],
   "source": [
    "bst_grid.grid_scores_"
   ]
  },
  {
   "cell_type": "code",
   "execution_count": null,
   "metadata": {},
   "outputs": [],
   "source": [
    "print(\"Best accuracy obtained: {0}\".format(bst_grid.best_score_))\n",
    "print(\"Parameters:\")\n",
    "for key, value in bst_grid.best_params_.items():\n",
    "    print(\"\\t{}: {}\".format(key, value))"
   ]
  },
  {
   "cell_type": "code",
   "execution_count": null,
   "metadata": {},
   "outputs": [],
   "source": [
    "params = {\n",
    "    'objective': 'binary:logistic',\n",
    "    'max_depth': 4,\n",
    "    'learning_rate': 0.02,\n",
    "    'silent': 1,\n",
    "    \n",
    "    'n_estimators': 1000,\n",
    "    'early_stopping_rounds': 30\n",
    "    #'eval_metric': 'error'\n",
    "}\n",
    "\n",
    "bst = XGBClassifier(**params).fit(X_train, y_train)\n",
    "\n",
    "preds = bst.predict(X_test)\n",
    "correct = 0\n",
    "\n",
    "for i in range(len(preds)):\n",
    "    if (y_test[i] == preds[i]):\n",
    "        correct += 1\n",
    "        \n",
    "acc = accuracy_score(y_test, preds)\n",
    "\n",
    "print('Predicted correctly: {0}/{1}'.format(correct, len(preds)))\n",
    "print('Acc: {0:.4f}'.format(acc))"
   ]
  },
  {
   "cell_type": "code",
   "execution_count": null,
   "metadata": {},
   "outputs": [],
   "source": []
  }
 ],
 "metadata": {
  "kernelspec": {
   "display_name": "Python 3",
   "language": "python",
   "name": "python3"
  },
  "language_info": {
   "codemirror_mode": {
    "name": "ipython",
    "version": 3
   },
   "file_extension": ".py",
   "mimetype": "text/x-python",
   "name": "python",
   "nbconvert_exporter": "python",
   "pygments_lexer": "ipython3",
   "version": "3.6.5"
  }
 },
 "nbformat": 4,
 "nbformat_minor": 2
}
